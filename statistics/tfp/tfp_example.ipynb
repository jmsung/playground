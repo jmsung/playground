{
 "cells": [
  {
   "cell_type": "code",
   "execution_count": 1,
   "id": "6e9d8400",
   "metadata": {},
   "outputs": [
    {
     "data": {
      "text/plain": [
       "<tf.Tensor: shape=(1,), dtype=float32, numpy=array([1.5982956], dtype=float32)>"
      ]
     },
     "execution_count": 1,
     "metadata": {},
     "output_type": "execute_result"
    }
   ],
   "source": [
    "import tensorflow as tf\n",
    "import tensorflow_probability as tfp\n",
    "\n",
    "# Pretend to load synthetic data set.\n",
    "features = tfp.distributions.Normal(loc=0., scale=1.).sample(int(100e3))\n",
    "labels = tfp.distributions.Bernoulli(logits=1.618 * features).sample()\n",
    "\n",
    "# Specify model.\n",
    "model = tfp.glm.Bernoulli()\n",
    "\n",
    "# Fit model given data.\n",
    "coeffs, linear_response, is_converged, num_iter = tfp.glm.fit(\n",
    "    model_matrix=features[:, tf.newaxis],\n",
    "    response=tf.cast(labels, dtype=tf.float32),\n",
    "    model=model)\n",
    "# ==> coeffs is approximately [1.618] (We're golden!)\n",
    "\n",
    "coeffs"
   ]
  },
  {
   "cell_type": "code",
   "execution_count": 2,
   "id": "18974cf4",
   "metadata": {},
   "outputs": [
    {
     "data": {
      "text/plain": [
       "<tfp.glm.family.Bernoulli 'bernoulli'>"
      ]
     },
     "execution_count": 2,
     "metadata": {},
     "output_type": "execute_result"
    }
   ],
   "source": [
    "model"
   ]
  },
  {
   "cell_type": "code",
   "execution_count": null,
   "id": "d37da229",
   "metadata": {},
   "outputs": [],
   "source": []
  },
  {
   "cell_type": "code",
   "execution_count": null,
   "id": "3601cde2",
   "metadata": {},
   "outputs": [],
   "source": []
  },
  {
   "cell_type": "code",
   "execution_count": null,
   "id": "1654d4ad",
   "metadata": {},
   "outputs": [],
   "source": []
  },
  {
   "cell_type": "code",
   "execution_count": null,
   "id": "1a3d1345",
   "metadata": {},
   "outputs": [],
   "source": []
  }
 ],
 "metadata": {
  "kernelspec": {
   "display_name": "Python 3 (ipykernel)",
   "language": "python",
   "name": "python3"
  },
  "language_info": {
   "codemirror_mode": {
    "name": "ipython",
    "version": 3
   },
   "file_extension": ".py",
   "mimetype": "text/x-python",
   "name": "python",
   "nbconvert_exporter": "python",
   "pygments_lexer": "ipython3",
   "version": "3.10.6"
  }
 },
 "nbformat": 4,
 "nbformat_minor": 5
}
