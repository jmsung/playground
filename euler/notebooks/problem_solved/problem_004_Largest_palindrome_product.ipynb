{
 "cells": [
  {
   "cell_type": "markdown",
   "id": "35f5d92e",
   "metadata": {},
   "source": [
    "# Problem_004\n",
    "# Largest palindrome product\n",
    "\n",
    "\n",
    "A palindromic number reads the same both ways. The largest palindrome made from the product of two 2-digit numbers is 9009 = 91 × 99.\n",
    "\n",
    "Find the largest palindrome made from the product of two 3-digit numbers.\n",
    "\n"
   ]
  },
  {
   "cell_type": "code",
   "execution_count": 1,
   "id": "f5d8af0d",
   "metadata": {},
   "outputs": [
    {
     "name": "stdout",
     "output_type": "stream",
     "text": [
      "906609\n"
     ]
    }
   ],
   "source": [
    "palindromic = []\n",
    "\n",
    "for i in range(999, 0, -1):\n",
    "\tfor j in range(999, 0, -1):\n",
    "\t\tx = int(i*j)\n",
    "\t\ty = int(str(x)[::-1])\n",
    "\t\t# print('x={}, y={}'.format(x, y))\n",
    "\t\tif x==y:\n",
    "\t\t\tpalindromic.append(x)\n",
    "\t\t\t# print(x)\n",
    "\n",
    "palindromic.sort(reverse=True)\n",
    "print(palindromic[0])"
   ]
  },
  {
   "cell_type": "code",
   "execution_count": null,
   "id": "0855320d",
   "metadata": {},
   "outputs": [],
   "source": []
  }
 ],
 "metadata": {
  "kernelspec": {
   "display_name": "Python 3",
   "language": "python",
   "name": "python3"
  },
  "language_info": {
   "codemirror_mode": {
    "name": "ipython",
    "version": 3
   },
   "file_extension": ".py",
   "mimetype": "text/x-python",
   "name": "python",
   "nbconvert_exporter": "python",
   "pygments_lexer": "ipython3",
   "version": "3.8.5"
  }
 },
 "nbformat": 4,
 "nbformat_minor": 5
}
