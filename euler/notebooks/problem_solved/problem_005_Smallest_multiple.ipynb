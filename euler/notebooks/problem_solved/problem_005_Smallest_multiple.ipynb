{
 "cells": [
  {
   "cell_type": "markdown",
   "id": "8dbf21a6",
   "metadata": {},
   "source": [
    "\n",
    "# Problem 005\n",
    "# Smallest multiple\n",
    "\n",
    "2520 is the smallest number that can be divided by each of the numbers from 1 to 10 without any remainder.\n",
    "What is the smallest positive number that is evenly divisible by all of the numbers from 1 to 20?\n"
   ]
  },
  {
   "cell_type": "code",
   "execution_count": 1,
   "id": "be284a15",
   "metadata": {},
   "outputs": [
    {
     "name": "stdout",
     "output_type": "stream",
     "text": [
      "232792560\n"
     ]
    }
   ],
   "source": [
    "from scripts import myfunc\n",
    "\n",
    "\n",
    "n = 20\n",
    "print(myfunc.findsmallest(n))"
   ]
  },
  {
   "cell_type": "code",
   "execution_count": null,
   "id": "96cd03f0",
   "metadata": {},
   "outputs": [],
   "source": []
  }
 ],
 "metadata": {
  "kernelspec": {
   "display_name": "Python 3",
   "language": "python",
   "name": "python3"
  },
  "language_info": {
   "codemirror_mode": {
    "name": "ipython",
    "version": 3
   },
   "file_extension": ".py",
   "mimetype": "text/x-python",
   "name": "python",
   "nbconvert_exporter": "python",
   "pygments_lexer": "ipython3",
   "version": "3.8.5"
  }
 },
 "nbformat": 4,
 "nbformat_minor": 5
}
