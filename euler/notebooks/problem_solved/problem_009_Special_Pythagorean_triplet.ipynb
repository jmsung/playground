{
 "cells": [
  {
   "cell_type": "markdown",
   "id": "65e4053f",
   "metadata": {},
   "source": [
    "# Problem 009\n",
    "# Special Pythagorean triplet\n",
    "\n",
    "A Pythagorean triplet is a set of three natural numbers, a < b < c, for which,\n",
    "\n",
    "```\n",
    "a^2 + b^2 = c^2\n",
    "```\n",
    "\n",
    "For example, 32 + 42 = 9 + 16 = 25 = 52.\n",
    "\n",
    "There exists exactly one Pythagorean triplet for which a + b + c = 1000.\n",
    "Find the product abc.\n",
    "\n"
   ]
  },
  {
   "cell_type": "code",
   "execution_count": 1,
   "id": "196d8c73",
   "metadata": {},
   "outputs": [
    {
     "name": "stdout",
     "output_type": "stream",
     "text": [
      "a=200, b=375, c=425, abc=31875000\n"
     ]
    }
   ],
   "source": [
    "n = 1000\n",
    "\n",
    "for a in range(1, n):\n",
    "\tfor b in range(a, n):\n",
    "\t\tc = 1000 - a - b\n",
    "\t\tif c**2 == a**2 + b**2:\n",
    "\t\t\tprint(\"a={}, b={}, c={}, abc={}\".format(a, b, c, a*b*c))"
   ]
  },
  {
   "cell_type": "code",
   "execution_count": null,
   "id": "a311c450",
   "metadata": {},
   "outputs": [],
   "source": []
  }
 ],
 "metadata": {
  "kernelspec": {
   "display_name": "Python 3",
   "language": "python",
   "name": "python3"
  },
  "language_info": {
   "codemirror_mode": {
    "name": "ipython",
    "version": 3
   },
   "file_extension": ".py",
   "mimetype": "text/x-python",
   "name": "python",
   "nbconvert_exporter": "python",
   "pygments_lexer": "ipython3",
   "version": "3.8.5"
  }
 },
 "nbformat": 4,
 "nbformat_minor": 5
}
