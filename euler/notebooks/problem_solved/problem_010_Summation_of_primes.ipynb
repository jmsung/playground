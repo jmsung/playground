{
 "cells": [
  {
   "cell_type": "markdown",
   "id": "48fbc1be",
   "metadata": {},
   "source": [
    "# Problem 010\n",
    "# Summation of primes\n",
    "\n",
    "The sum of the primes below 10 is 2 + 3 + 5 + 7 = 17.\n",
    "\n",
    "Find the sum of all the primes below two million.\n"
   ]
  },
  {
   "cell_type": "code",
   "execution_count": 3,
   "id": "78a0dbee",
   "metadata": {},
   "outputs": [
    {
     "name": "stdout",
     "output_type": "stream",
     "text": [
      "277050\n",
      "0.032469987869262695 sec\n"
     ]
    }
   ],
   "source": [
    "from scripts.myfunc import prime_below\n",
    "import time\n",
    "start_time = time.time()\n",
    "\n",
    "n = 2e3\n",
    "\n",
    "primes = prime_below(n)\n",
    "\n",
    "print(sum(primes))\n",
    "\n",
    "print(time.time()-start_time, 'sec')"
   ]
  },
  {
   "cell_type": "code",
   "execution_count": 4,
   "id": "44acf070",
   "metadata": {},
   "outputs": [
    {
     "name": "stdout",
     "output_type": "stream",
     "text": [
      "21171191\n",
      "1.8761589527130127 sec\n"
     ]
    }
   ],
   "source": [
    "from scripts.myfunc import prime_below\n",
    "import time\n",
    "start_time = time.time()\n",
    "\n",
    "n = 2e4\n",
    "\n",
    "primes = prime_below(n)\n",
    "\n",
    "print(sum(primes))\n",
    "\n",
    "print(time.time()-start_time, 'sec')"
   ]
  },
  {
   "cell_type": "code",
   "execution_count": 5,
   "id": "12ceea22",
   "metadata": {},
   "outputs": [
    {
     "name": "stdout",
     "output_type": "stream",
     "text": [
      "1709600813\n",
      "161.55084085464478 sec\n"
     ]
    }
   ],
   "source": [
    "from scripts.myfunc import prime_below\n",
    "import time\n",
    "start_time = time.time()\n",
    "\n",
    "n = 2e5\n",
    "\n",
    "primes = prime_below(n)\n",
    "\n",
    "print(sum(primes))\n",
    "\n",
    "print(time.time()-start_time, 'sec')"
   ]
  },
  {
   "cell_type": "code",
   "execution_count": 6,
   "id": "ede853a0",
   "metadata": {},
   "outputs": [
    {
     "name": "stdout",
     "output_type": "stream",
     "text": [
      "142913828922\n",
      "56335.780943870544 sec\n"
     ]
    }
   ],
   "source": [
    "from scripts.myfunc import prime_below\n",
    "import time\n",
    "start_time = time.time()\n",
    "\n",
    "n = 2e6\n",
    "\n",
    "primes = prime_below(n)\n",
    "\n",
    "print(sum(primes))\n",
    "\n",
    "print(time.time()-start_time, 'sec')"
   ]
  },
  {
   "cell_type": "code",
   "execution_count": null,
   "id": "1e4d1f75",
   "metadata": {},
   "outputs": [],
   "source": []
  }
 ],
 "metadata": {
  "kernelspec": {
   "display_name": "Python 3",
   "language": "python",
   "name": "python3"
  },
  "language_info": {
   "codemirror_mode": {
    "name": "ipython",
    "version": 3
   },
   "file_extension": ".py",
   "mimetype": "text/x-python",
   "name": "python",
   "nbconvert_exporter": "python",
   "pygments_lexer": "ipython3",
   "version": "3.8.5"
  }
 },
 "nbformat": 4,
 "nbformat_minor": 5
}
