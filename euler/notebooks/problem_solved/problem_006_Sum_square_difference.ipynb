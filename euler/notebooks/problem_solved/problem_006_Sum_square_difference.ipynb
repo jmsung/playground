{
 "cells": [
  {
   "cell_type": "markdown",
   "id": "a3a7f538",
   "metadata": {},
   "source": [
    "# Problem 006\n",
    "# Sum square difference\n",
    "\n",
    "The sum of the squares of the first ten natural numbers is, 385\n",
    "\n",
    "The square of the sum of the first ten natural numbers is, 3025\n",
    "\n",
    "Hence the difference between the sum of the squares of the first ten natural numbers and the square of the sum is 2640\n",
    "\n",
    "Find the difference between the sum of the squares of the first one hundred natural numbers and the square of the sum.\n"
   ]
  },
  {
   "cell_type": "code",
   "execution_count": 1,
   "id": "502cd0fb",
   "metadata": {},
   "outputs": [
    {
     "name": "stdout",
     "output_type": "stream",
     "text": [
      "25164150\n"
     ]
    }
   ],
   "source": [
    "from scripts import myfunc\n",
    "\n",
    "n = 100\n",
    "\n",
    "print(myfunc.square_of_sum(n)-myfunc.sum_of_squares(n))"
   ]
  },
  {
   "cell_type": "code",
   "execution_count": null,
   "id": "9aef4142",
   "metadata": {},
   "outputs": [],
   "source": []
  }
 ],
 "metadata": {
  "kernelspec": {
   "display_name": "Python 3",
   "language": "python",
   "name": "python3"
  },
  "language_info": {
   "codemirror_mode": {
    "name": "ipython",
    "version": 3
   },
   "file_extension": ".py",
   "mimetype": "text/x-python",
   "name": "python",
   "nbconvert_exporter": "python",
   "pygments_lexer": "ipython3",
   "version": "3.8.5"
  }
 },
 "nbformat": 4,
 "nbformat_minor": 5
}
