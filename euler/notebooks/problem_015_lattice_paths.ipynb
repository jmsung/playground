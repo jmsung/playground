{
 "cells": [
  {
   "cell_type": "markdown",
   "id": "235fecc3-159d-4421-a359-f5549e1c23e3",
   "metadata": {},
   "source": [
    "https://projecteuler.net/problem=15\n",
    "\n",
    "# Problem 015\n",
    "# Lattice paths\n",
    "\n",
    "Starting in the top left corner of a 2×2 grid, and only being able to move to the right and down, there are exactly 6 routes to the bottom right corner.\n",
    "\n",
    "How many such routes are there through a 20×20 grid?\n",
    "\n",
    "![](img/p015.png)"
   ]
  },
  {
   "cell_type": "code",
   "execution_count": null,
   "id": "367139de-cf13-45b5-8c35-5debbfad5d6d",
   "metadata": {},
   "outputs": [],
   "source": []
  },
  {
   "cell_type": "code",
   "execution_count": null,
   "id": "fa878090-802e-4248-a65e-245a9877e3d4",
   "metadata": {},
   "outputs": [],
   "source": []
  },
  {
   "cell_type": "code",
   "execution_count": null,
   "id": "e603bcfb-f5c4-4e9e-8c4c-c2fc1c814f17",
   "metadata": {},
   "outputs": [],
   "source": []
  },
  {
   "cell_type": "code",
   "execution_count": null,
   "id": "c7a43c81-8e08-40fb-a141-56d5d2ca5ad9",
   "metadata": {},
   "outputs": [],
   "source": []
  },
  {
   "cell_type": "code",
   "execution_count": null,
   "id": "e4899350-be50-4bf6-95f0-b50d1388d291",
   "metadata": {},
   "outputs": [],
   "source": []
  },
  {
   "cell_type": "code",
   "execution_count": null,
   "id": "5b80e41b-b5c8-4ed1-8020-5c36cb3b1ec8",
   "metadata": {},
   "outputs": [],
   "source": []
  },
  {
   "cell_type": "code",
   "execution_count": null,
   "id": "434a3e23-f63d-4fd5-878e-edf30a041ed4",
   "metadata": {},
   "outputs": [],
   "source": []
  }
 ],
 "metadata": {
  "kernelspec": {
   "display_name": "Python 3",
   "language": "python",
   "name": "python3"
  },
  "language_info": {
   "codemirror_mode": {
    "name": "ipython",
    "version": 3
   },
   "file_extension": ".py",
   "mimetype": "text/x-python",
   "name": "python",
   "nbconvert_exporter": "python",
   "pygments_lexer": "ipython3",
   "version": "3.8.5"
  }
 },
 "nbformat": 4,
 "nbformat_minor": 5
}
