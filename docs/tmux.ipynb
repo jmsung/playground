{
 "cells": [
  {
   "cell_type": "markdown",
   "metadata": {},
   "source": [
    "# tmux"
   ]
  },
  {
   "cell_type": "markdown",
   "metadata": {},
   "source": [
    "# Install\n",
    "* `$ sudo apt install tmux` (linux)\n",
    "* `$ brew install tmux` (mac)\n",
    "\n",
    "# Manual \n",
    "* `$ man tmux`\n",
    "\n",
    "# Session\n",
    "* List Tmux sessions: `$ tmux ls`\n",
    "* Create a session: `$ tmux or $ tmux new`\n",
    "* Create a named session: `$ tmux new -s session_name`\n",
    "* Creating detached sessions: `$ tmux new -s session_name -d`\n",
    "* Detaching from Tmux sessions: `C-b > d`\n",
    "* Attaching to Tmux sessions: `$ tmux a -t session_name`\n",
    "* Rename Tmux session name: `$ tmux rename-session -t old_name new_name`\n",
    "* Attaching to the recent session: `$ tmux a`\n",
    "* Kill all tmux sessions: `$ tmux kill-server`\n",
    "* Kill named tmux session: `$ tmux kill-session -t session_name`\n",
    "* Show a list of all available commands: `C-b > ?`\n",
    "\n",
    "# Window\n",
    "* Create a new window: `C-b + c`\n",
    "* Move to the next window: `C-b + n` \n",
    "* Move to the previous window: `C-b + p` \n",
    "* List all the windows: `C-b + w`\n",
    "* Switch to window 0: `C-b + 0`\n",
    "* Rename the current window: `C-b + ,`\n",
    "* Delete the current window: `C-b + &`\n",
    "\n",
    "# Pane\n",
    "* Split pane horizontally: `C-b + \"` \n",
    "* Split pane vertically:  `C-b + %` \n",
    "* Switch pane: `C-b + arrow key` \n",
    "* Resize pane: `Hold C-b + hold one of the arrow keys` \n",
    "* Swap panes: `Hold C-b + o`\n",
    "* Next pane: `C-b + o`\n",
    "* Show pane numbers: `C-b + q` \n",
    "* Zoom in/out pane: `C-b + z`\n",
    "* Send commands to all panes: `C-b + :setw synchronize-panes + $ [type commands]` \n",
    "* Close the current pane: `C-b + x`\n",
    "\n",
    "# Customizing tmux\n",
    "* Edit ~/.tmux.conf\n",
    "\n",
    "### remap prefix from 'C-b' to 'C-a'\n",
    "```\n",
    "unbind C-b\n",
    "set-option -g prefix C-a\n",
    "bind-key C-a send-prefix\n",
    "```\n",
    "\n",
    "### Improve colors\n",
    "* `set -g default-terminal 'screen-256color'\n",
    "\n",
    "### Set scrollback buffer to 10000\n",
    "* `set -g history-limit 10000`\n",
    "\n",
    "### Start window numbering at 1\n",
    "* `set -g base-index 1`\n",
    "\n",
    "### Automatically set window title\n",
    "* `set-window-option -g automatic-rename on`\n",
    "* `set-option -g set-titles on`\n",
    "\n",
    "### No delay for escape key press\n",
    "* `set -sg escape-time 0`\n",
    "\n",
    "### vi-like bindings for navigating a buffer in a window\n",
    "* `set-window-option -g mode-keys vi`\n",
    "\n",
    "### Reload tmux config\n",
    "* `bind r source-file ~/.tmux.conf`\n",
    "\n",
    "### Allow mouse scrolling mode.\n",
    "* `set-option -g mouse on`\n",
    "\n",
    "### THEME\n",
    "* `set -g status-bg black`\n",
    "* `set -g status-fg green`\n",
    "\n",
    "\n",
    "# References\n",
    "* https://www.ostechnix.com/tmux-command-examples-to-manage-multiple-terminal-sessions/\n",
    "* https://www.hamvocke.com/blog/a-quick-and-easy-guide-to-tmux/\n",
    "* https://linuxize.com/post/getting-started-with-tmux/\n",
    "* https://docs.google.com/document/d/1aVZQwlbjTnBmK_yH4J0zg3u6_U8QcQzE7hqaB-17nKk/edit\n",
    "* https://medium.com/actualize-network/a-minimalist-guide-to-tmux-13675fb160fa\n",
    "* https://gist.github.com/spicycode/1229612\n",
    "* https://gist.github.com/tsl0922/d79fc1f8097dde660b34\n"
   ]
  },
  {
   "cell_type": "code",
   "execution_count": null,
   "metadata": {},
   "outputs": [],
   "source": []
  },
  {
   "cell_type": "code",
   "execution_count": null,
   "metadata": {},
   "outputs": [],
   "source": []
  },
  {
   "cell_type": "code",
   "execution_count": null,
   "metadata": {},
   "outputs": [],
   "source": []
  },
  {
   "cell_type": "code",
   "execution_count": null,
   "metadata": {},
   "outputs": [],
   "source": []
  },
  {
   "cell_type": "code",
   "execution_count": null,
   "metadata": {},
   "outputs": [],
   "source": []
  },
  {
   "cell_type": "code",
   "execution_count": null,
   "metadata": {},
   "outputs": [],
   "source": []
  },
  {
   "cell_type": "code",
   "execution_count": null,
   "metadata": {},
   "outputs": [],
   "source": []
  },
  {
   "cell_type": "code",
   "execution_count": null,
   "metadata": {},
   "outputs": [],
   "source": []
  },
  {
   "cell_type": "code",
   "execution_count": null,
   "metadata": {},
   "outputs": [],
   "source": []
  },
  {
   "cell_type": "code",
   "execution_count": null,
   "metadata": {},
   "outputs": [],
   "source": []
  },
  {
   "cell_type": "code",
   "execution_count": null,
   "metadata": {},
   "outputs": [],
   "source": []
  },
  {
   "cell_type": "code",
   "execution_count": null,
   "metadata": {},
   "outputs": [],
   "source": []
  },
  {
   "cell_type": "code",
   "execution_count": null,
   "metadata": {},
   "outputs": [],
   "source": []
  },
  {
   "cell_type": "code",
   "execution_count": null,
   "metadata": {},
   "outputs": [],
   "source": []
  },
  {
   "cell_type": "code",
   "execution_count": null,
   "metadata": {},
   "outputs": [],
   "source": []
  },
  {
   "cell_type": "code",
   "execution_count": null,
   "metadata": {},
   "outputs": [],
   "source": []
  }
 ],
 "metadata": {
  "kernelspec": {
   "display_name": "Python 3",
   "language": "python",
   "name": "python3"
  },
  "language_info": {
   "codemirror_mode": {
    "name": "ipython",
    "version": 3
   },
   "file_extension": ".py",
   "mimetype": "text/x-python",
   "name": "python",
   "nbconvert_exporter": "python",
   "pygments_lexer": "ipython3",
   "version": "3.8.2"
  }
 },
 "nbformat": 4,
 "nbformat_minor": 4
}
