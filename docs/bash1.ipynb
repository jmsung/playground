{
 "cells": [
  {
   "cell_type": "markdown",
   "metadata": {},
   "source": [
    "# `time`\n",
    "* report how much time a process consumed"
   ]
  },
  {
   "cell_type": "code",
   "execution_count": 1,
   "metadata": {},
   "outputs": [],
   "source": [
    "!time find ~/src/acap/ac-analysis/ac_analysis/model -name tests"
   ]
  },
  {
   "cell_type": "markdown",
   "metadata": {},
   "source": [
    "# `variables` in bash\n",
    "* created when assign one a value or declare it with, e.g. the `export` command\n",
    "* remove with `unset`\n",
    "* reference the value of a variable with a dollar sign"
   ]
  },
  {
   "cell_type": "code",
   "execution_count": 10,
   "metadata": {},
   "outputs": [
    {
     "name": "stdout",
     "output_type": "stream",
     "text": [
      "test\r\n"
     ]
    }
   ],
   "source": [
    "myvar='test'\n",
    "!echo $myvar"
   ]
  },
  {
   "cell_type": "markdown",
   "metadata": {},
   "source": [
    "* for a shell script to get a copy of a shell variable, it needs to be `exported`:\n",
    "    * `$ export mynewvar` or `$ declare -x mynewvar`\n",
    "* can export and assign in the same statement:\n",
    "    * `$ export var2=\"var2 value\"`\n",
    "* can export myfunc\n",
    "    * `$ export -f myfunc`"
   ]
  },
  {
   "cell_type": "code",
   "execution_count": 11,
   "metadata": {},
   "outputs": [],
   "source": [
    "!export var2=\"var2 value\""
   ]
  },
  {
   "cell_type": "code",
   "execution_count": 12,
   "metadata": {},
   "outputs": [
    {
     "name": "stdout",
     "output_type": "stream",
     "text": [
      "/bin/sh: line 0: export: myfunc: not a function\r\n"
     ]
    }
   ],
   "source": [
    "!export -f myfunc"
   ]
  },
  {
   "cell_type": "code",
   "execution_count": 13,
   "metadata": {},
   "outputs": [
    {
     "name": "stdout",
     "output_type": "stream",
     "text": [
      "export CLICOLOR=\"1\"\r\n",
      "export COLORFGBG=\"7;0\"\r\n",
      "export COLORTERM=\"truecolor\"\r\n",
      "export COMMAND_MODE=\"unix2003\"\r\n",
      "export CONDA_DEFAULT_ENV=\"acap\"\r\n",
      "export CONDA_EXE=\"/Users/sungj4/miniconda3/bin/conda\"\r\n",
      "export CONDA_PREFIX=\"/Users/sungj4/miniconda3/envs/acap\"\r\n",
      "export CONDA_PREFIX_1=\"/Users/sungj4/miniconda3\"\r\n",
      "export CONDA_PROMPT_MODIFIER=\"(acap) \"\r\n",
      "export CONDA_PYTHON_EXE=\"/Users/sungj4/miniconda3/bin/python\"\r\n",
      "export CONDA_SHLVL=\"2\"\r\n",
      "export DISPLAY=\"/private/tmp/com.apple.launchd.D6EBn82W4a/org.macosforge.xquartz:0\"\r\n",
      "export GIT_PAGER=\"cat\"\r\n",
      "export GREP_COLOR=\"1;32\"\r\n",
      "export GREP_OPTIONS=\"--color=auto\"\r\n",
      "export HOME=\"/Users/sungj4\"\r\n",
      "export ITERM_ORIG_PS1=\"(acap) \\\\e[0;32m[\\\\u@\\\\h \\\\W]\\$ \\\\e[m \"\r\n",
      "export ITERM_PREV_PS1=\"\\\\[\u001b]133;D;\\$?\u0007\u001b]133;A\u0007\\\\](acap) \\\\e[0;32m[\\\\u@\\\\h \\\\W]\\$ \\\\e[m \\\\[\u001b]133;B\u0007\\\\]\"\r\n",
      "export ITERM_PROFILE=\"Default\"\r\n",
      "export ITERM_SESSION_ID=\"w0t0p0:8B035A99-FCD0-41F0-A925-B52C1F749757\"\r\n",
      "export JAVA_HOME=\"/Users/sungj4/miniconda3/envs/acap\"\r\n",
      "export JAVA_HOME_CONDA_BACKUP=\"\"\r\n",
      "export JAVA_LD_LIBRARY_PATH=\"/Users/sungj4/miniconda3/envs/acap/jre/lib/server\"\r\n",
      "export JAVA_LD_LIBRARY_PATH_BACKUP=\"\"\r\n",
      "export JPY_PARENT_PID=\"4844\"\r\n",
      "export LANG=\"en_US.UTF-8\"\r\n",
      "export LC_TERMINAL=\"iTerm2\"\r\n",
      "export LC_TERMINAL_VERSION=\"3.3.12\"\r\n",
      "export LOGNAME=\"sungj4\"\r\n",
      "export LSCOLORS=\"CxFxCxDxBxegedabagaced\"\r\n",
      "export LaunchInstanceID=\"2D8AA7E8-775F-4AF8-ACDB-6339DCA6EE22\"\r\n",
      "export MPLBACKEND=\"module://ipykernel.pylab.backend_inline\"\r\n",
      "export OLDPWD\r\n",
      "export PAGER=\"cat\"\r\n",
      "export PATH=\"/Users/sungj4/miniconda3/envs/acap/bin:/Users/sungj4/miniconda3/condabin:/usr/local/bin:/usr/bin:/bin:/usr/sbin:/sbin:/opt/X11/bin\"\r\n",
      "export PWD=\"/Users/sungj4/sungj4-research/utils/note\"\r\n",
      "export SECURITYSESSIONID=\"186a7\"\r\n",
      "export SHELL=\"/bin/bash\"\r\n",
      "export SHLVL=\"2\"\r\n",
      "export SSH_AUTH_SOCK=\"/private/tmp/com.apple.launchd.3gKGLzX4IA/Listeners\"\r\n",
      "export TERM=\"xterm-color\"\r\n",
      "export TERM_PROGRAM=\"iTerm.app\"\r\n",
      "export TERM_PROGRAM_VERSION=\"3.3.12\"\r\n",
      "export TERM_SESSION_ID=\"w0t0p0:8B035A99-FCD0-41F0-A925-B52C1F749757\"\r\n",
      "export TMPDIR=\"/var/folders/k3/vj_n515d5lscwy3688_6chfr0000gp/T/\"\r\n",
      "export USER=\"sungj4\"\r\n",
      "export XPC_FLAGS=\"0x0\"\r\n",
      "export XPC_SERVICE_NAME=\"0\"\r\n",
      "export _=\"/Users/sungj4/miniconda3/envs/acap/bin/jupyter-notebook\"\r\n",
      "export _CE_CONDA=\"\"\r\n",
      "export _CE_M=\"\"\r\n",
      "export __CF_USER_TEXT_ENCODING=\"0x1F6:0x0:0x0\"\r\n"
     ]
    }
   ],
   "source": [
    "!export"
   ]
  },
  {
   "cell_type": "markdown",
   "metadata": {},
   "source": [
    "# Grouping in Bash"
   ]
  },
  {
   "cell_type": "code",
   "execution_count": 3,
   "metadata": {},
   "outputs": [
    {
     "name": "stdout",
     "output_type": "stream",
     "text": [
      "\r\n"
     ]
    }
   ],
   "source": []
  },
  {
   "cell_type": "code",
   "execution_count": null,
   "metadata": {},
   "outputs": [],
   "source": []
  },
  {
   "cell_type": "code",
   "execution_count": null,
   "metadata": {},
   "outputs": [],
   "source": []
  },
  {
   "cell_type": "code",
   "execution_count": null,
   "metadata": {},
   "outputs": [],
   "source": []
  },
  {
   "cell_type": "code",
   "execution_count": null,
   "metadata": {},
   "outputs": [],
   "source": []
  },
  {
   "cell_type": "code",
   "execution_count": null,
   "metadata": {},
   "outputs": [],
   "source": []
  },
  {
   "cell_type": "code",
   "execution_count": null,
   "metadata": {},
   "outputs": [],
   "source": []
  },
  {
   "cell_type": "code",
   "execution_count": null,
   "metadata": {},
   "outputs": [],
   "source": []
  },
  {
   "cell_type": "code",
   "execution_count": null,
   "metadata": {},
   "outputs": [],
   "source": []
  }
 ],
 "metadata": {
  "kernelspec": {
   "display_name": "Python 3",
   "language": "python",
   "name": "python3"
  },
  "language_info": {
   "codemirror_mode": {
    "name": "ipython",
    "version": 3
   },
   "file_extension": ".py",
   "mimetype": "text/x-python",
   "name": "python",
   "nbconvert_exporter": "python",
   "pygments_lexer": "ipython3",
   "version": "3.6.12"
  }
 },
 "nbformat": 4,
 "nbformat_minor": 4
}
