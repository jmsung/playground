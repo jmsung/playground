{
 "cells": [
  {
   "cell_type": "markdown",
   "metadata": {},
   "source": [
    "# decorator\n",
    "\n",
    "* Decorators provide a simple syntax for calling higher-order functions.\n",
    "* a decorator is a function that takes another function and extends the behavior of the latter function without explicitly modifying it.\n",
    "* decorators wrap a function, modifying its behavior."
   ]
  },
  {
   "cell_type": "code",
   "execution_count": 1,
   "metadata": {},
   "outputs": [],
   "source": [
    "def my_decorator(func):\n",
    "    def wrapper():\n",
    "        print(\"Something is happening before the function is called.\")\n",
    "        func()\n",
    "        print(\"Something is happening after the function is called.\")\n",
    "    return wrapper\n",
    "\n",
    "def say_whee():\n",
    "    print(\"Whee!\")\n",
    "\n",
    "say_whee = my_decorator(say_whee)"
   ]
  },
  {
   "cell_type": "code",
   "execution_count": 2,
   "metadata": {},
   "outputs": [
    {
     "name": "stdout",
     "output_type": "stream",
     "text": [
      "Something is happening before the function is called.\n",
      "Whee!\n",
      "Something is happening after the function is called.\n"
     ]
    }
   ],
   "source": [
    "say_whee()"
   ]
  },
  {
   "cell_type": "code",
   "execution_count": 3,
   "metadata": {},
   "outputs": [
    {
     "data": {
      "text/plain": [
       "<function __main__.my_decorator.<locals>.wrapper()>"
      ]
     },
     "execution_count": 3,
     "metadata": {},
     "output_type": "execute_result"
    }
   ],
   "source": [
    "say_whee"
   ]
  },
  {
   "cell_type": "code",
   "execution_count": 12,
   "metadata": {},
   "outputs": [],
   "source": [
    "from datetime import datetime\n",
    "\n",
    "def not_during_the_night(func):\n",
    "    def wrapper():\n",
    "        if 7 <= datetime.now().hour < 22:\n",
    "            func()\n",
    "        else:\n",
    "            pass  # Hush, the neighbors are asleep\n",
    "    return wrapper\n",
    "\n",
    "def say_whee():\n",
    "    print(datetime.now().hour)\n",
    "    print(\"Whee!\")\n",
    "\n",
    "say_whee = not_during_the_night(say_whee)"
   ]
  },
  {
   "cell_type": "code",
   "execution_count": 14,
   "metadata": {},
   "outputs": [
    {
     "name": "stdout",
     "output_type": "stream",
     "text": [
      "15\n",
      "Whee!\n"
     ]
    }
   ],
   "source": [
    "say_whee()"
   ]
  },
  {
   "cell_type": "code",
   "execution_count": 54,
   "metadata": {},
   "outputs": [],
   "source": [
    "# Decorating Functions With Arguments\n",
    "\n",
    "def do_twice(func):\n",
    "    def wrapper_do_twice(*args, **kwargs):\n",
    "        func(*args, **kwargs)\n",
    "        return func(*args, **kwargs)\n",
    "    return wrapper_do_twice\n",
    "\n",
    "@do_twice\n",
    "def say_whee():\n",
    "    print(\"Whee!\")\n",
    "    \n",
    "@do_twice\n",
    "def greet(name):\n",
    "    print(f\"Hello {name}\")\n",
    "    \n",
    "@do_twice\n",
    "def return_greeting(name):\n",
    "    print(\"Creating greeting\")\n",
    "    return f\"Hi {name}\""
   ]
  },
  {
   "cell_type": "code",
   "execution_count": 55,
   "metadata": {},
   "outputs": [
    {
     "name": "stdout",
     "output_type": "stream",
     "text": [
      "Whee!\n",
      "Whee!\n"
     ]
    }
   ],
   "source": [
    "say_whee()"
   ]
  },
  {
   "cell_type": "code",
   "execution_count": 56,
   "metadata": {},
   "outputs": [
    {
     "name": "stdout",
     "output_type": "stream",
     "text": [
      "Hello Jongmin\n",
      "Hello Jongmin\n"
     ]
    }
   ],
   "source": [
    "greet(\"Jongmin\")"
   ]
  },
  {
   "cell_type": "code",
   "execution_count": 58,
   "metadata": {},
   "outputs": [
    {
     "name": "stdout",
     "output_type": "stream",
     "text": [
      "Creating greeting\n",
      "Creating greeting\n"
     ]
    },
    {
     "data": {
      "text/plain": [
       "'Hi Jongmin'"
      ]
     },
     "execution_count": 58,
     "metadata": {},
     "output_type": "execute_result"
    }
   ],
   "source": [
    "return_greeting(\"Jongmin\")"
   ]
  },
  {
   "cell_type": "code",
   "execution_count": 59,
   "metadata": {},
   "outputs": [
    {
     "data": {
      "text/plain": [
       "<function __main__.do_twice.<locals>.wrapper_do_twice(*args, **kwargs)>"
      ]
     },
     "execution_count": 59,
     "metadata": {},
     "output_type": "execute_result"
    }
   ],
   "source": [
    "say_whee"
   ]
  },
  {
   "cell_type": "code",
   "execution_count": 60,
   "metadata": {},
   "outputs": [
    {
     "data": {
      "text/plain": [
       "'wrapper_do_twice'"
      ]
     },
     "execution_count": 60,
     "metadata": {},
     "output_type": "execute_result"
    }
   ],
   "source": [
    "say_whee.__name__"
   ]
  },
  {
   "cell_type": "code",
   "execution_count": 61,
   "metadata": {},
   "outputs": [
    {
     "name": "stdout",
     "output_type": "stream",
     "text": [
      "Help on function wrapper_do_twice in module __main__:\n",
      "\n",
      "wrapper_do_twice(*args, **kwargs)\n",
      "\n"
     ]
    }
   ],
   "source": [
    "help(say_whee)"
   ]
  },
  {
   "cell_type": "code",
   "execution_count": 62,
   "metadata": {},
   "outputs": [],
   "source": [
    "import functools\n",
    "import time\n",
    "\n",
    "def slow_down(func):\n",
    "    \"\"\"Sleep 1 second before calling the function\"\"\"\n",
    "    @functools.wraps(func)\n",
    "    def wrapper_slow_down(*args, **kwargs):\n",
    "        time.sleep(1)\n",
    "        return func(*args, **kwargs)\n",
    "    return wrapper_slow_down\n",
    "\n",
    "@slow_down\n",
    "def countdown(from_number):\n",
    "    if from_number < 1:\n",
    "        print(\"Liftoff!\")\n",
    "    else:\n",
    "        print(from_number)\n",
    "        countdown(from_number - 1)"
   ]
  },
  {
   "cell_type": "code",
   "execution_count": 63,
   "metadata": {},
   "outputs": [
    {
     "name": "stdout",
     "output_type": "stream",
     "text": [
      "10\n",
      "9\n",
      "8\n",
      "7\n",
      "6\n",
      "5\n",
      "4\n",
      "3\n",
      "2\n",
      "1\n",
      "Liftoff!\n"
     ]
    }
   ],
   "source": [
    "countdown(10)"
   ]
  },
  {
   "cell_type": "code",
   "execution_count": 64,
   "metadata": {},
   "outputs": [
    {
     "data": {
      "text/plain": [
       "{'__name__': '__main__',\n",
       " '__doc__': 'Automatically created module for IPython interactive environment',\n",
       " '__package__': None,\n",
       " '__loader__': None,\n",
       " '__spec__': None,\n",
       " '__builtin__': <module 'builtins' (built-in)>,\n",
       " '__builtins__': <module 'builtins' (built-in)>,\n",
       " '_ih': ['',\n",
       "  'def my_decorator(func):\\n    def wrapper():\\n        print(\"Something is happening before the function is called.\")\\n        func()\\n        print(\"Something is happening after the function is called.\")\\n    return wrapper\\n\\ndef say_whee():\\n    print(\"Whee!\")\\n\\nsay_whee = my_decorator(say_whee)',\n",
       "  'say_whee()',\n",
       "  'say_whee',\n",
       "  'from datetime import datetime\\n\\ndef not_during_the_night(func):\\n    def wrapper():\\n        if 7 <= datetime.now().hour < 22:\\n            func()\\n        else:\\n            pass  # Hush, the neighbors are asleep\\n    return wrapper\\n\\ndef say_whee():\\n    print(\"Whee!\")\\n\\nsay_whee = not_during_the_night(say_whee)',\n",
       "  'say_whee()',\n",
       "  'from datetime import datetime\\n\\ndef not_during_the_night(func):\\n    def wrapper():\\n        if 7 <= datetime.now().hour < 22:\\n            func()\\n        else:\\n            pass  # Hush, the neighbors are asleep\\n    print(datetime.now().hour)\\n    return wrapper\\n\\ndef say_whee():\\n    print(\"Whee!\")\\n\\nsay_whee = not_during_the_night(say_whee)',\n",
       "  'say_whee()',\n",
       "  'from datetime import datetime\\n\\ndef not_during_the_night(func):\\n    def wrapper():\\n        if 7 <= datetime.now().hour < 22:\\n            func()\\n        else:\\n            pass  # Hush, the neighbors are asleep\\n    return wrapper\\n\\ndef say_whee():\\n    print(datetime.now().hour)\\n    print(\"Whee!\")\\n\\nsay_whee = not_during_the_night(say_whee)',\n",
       "  'say_whee()',\n",
       "  'from datetime import datetime\\n\\ndef not_during_the_night(func):\\n    def wrapper():\\n        if 7 <= datetime.now().hour < 22:\\n            func()\\n        else:\\n            pass  # Hush, the neighbors are asleep\\n    return wrapper\\n\\ndef say_whee():\\n    print(datetime.now().hour)\\n    print(\"Whee!\")\\n\\nsay_whee = not_during_the_night(say_whee)',\n",
       "  'say_whee()',\n",
       "  'from datetime import datetime\\n\\ndef not_during_the_night(func):\\n    def wrapper():\\n        if 7 <= datetime.now().hour < 22:\\n            func()\\n        else:\\n            pass  # Hush, the neighbors are asleep\\n    return wrapper\\n\\ndef say_whee():\\n    print(datetime.now().hour)\\n    print(\"Whee!\")\\n\\nsay_whee = not_during_the_night(say_whee)',\n",
       "  'say_whee()',\n",
       "  'say_whee()',\n",
       "  'def my_decorator(func):\\n    def wrapper():\\n        print(\"Something is happening before the function is called.\")\\n        func()\\n        print(\"Something is happening after the function is called.\")\\n    return wrapper\\n\\n@my_decorator\\ndef say_whee():\\n    print(\"Whee!\")',\n",
       "  'my_decorator()',\n",
       "  'my_decorator(say_whee)()',\n",
       "  'my_decorator(say_whee)',\n",
       "  'my_decorator()',\n",
       "  'say_whee()',\n",
       "  '#  Python allows you to use decorators in a simpler way with the @ symbol, sometimes called the “pie” syntax. \\n\\ndef my_decorator(func):\\n    def wrapper():\\n        print(\"Something is happening before the function is called.\")\\n        func()\\n        print(\"Something is happening after the function is called.\")\\n    return wrapper\\n\\n@my_decorator\\ndef say_whee():\\n    print(\"Whee!\")',\n",
       "  '#  Python allows you to use decorators in a simpler way with the @ symbol, sometimes called the “pie” syntax. \\n\\ndef my_decorator(func):\\n    def wrapper():\\n        print(\"Something is happening before the function is called.\")\\n        func()\\n        print(\"Something is happening after the function is called.\")\\n    return wrapper\\n\\n@my_decorator\\ndef say_whee():\\n    print(\"Whee!\")',\n",
       "  '#  Python allows you to use decorators in a simpler way with the @ symbol, sometimes called the “pie” syntax. \\n\\ndef my_decorator(func):\\n    def wrapper():\\n        print(\"Something is happening before the function is called.\")\\n        func()\\n        print(\"Something is happening after the function is called.\")\\n    return wrapper\\n\\n@my_decorator\\ndef say_whee():\\n    print(\"Whee!\")',\n",
       "  '#  Python allows you to use decorators in a simpler way with the @ symbol, \\n# sometimes called the “pie” syntax. \\n\\ndef my_decorator(func):\\n    def wrapper():\\n        print(\"Something is happening before the function is called.\")\\n        func()\\n        print(\"Something is happening after the function is called.\")\\n    return wrapper\\n\\n@my_decorator\\ndef say_whee():\\n    print(\"Whee!\")',\n",
       "  '# Python allows you to use decorators in a simpler way with the @ symbol, \\n# sometimes called the “pie” syntax. \\n\\ndef my_decorator(func):\\n    def wrapper():\\n        print(\"Something is happening before the function is called.\")\\n        func()\\n        print(\"Something is happening after the function is called.\")\\n    return wrapper\\n\\n@my_decorator\\ndef say_whee():\\n    print(\"Whee!\")',\n",
       "  '# Python allows you to use decorators in a simpler way with the @ symbol, \\n# sometimes called the “pie” syntax. \\n\\ndef do_twice(func):\\n    def wrapper():\\n        func()\\n        func()\\n    return wrapper\\n\\n@do_twice\\ndef say_whee():\\n    print(\"Whee!\")',\n",
       "  'say_whee()',\n",
       "  '# Decorating Functions With Arguments\\n\\ndef do_twice(func):\\n    def wrapper():\\n        func()\\n        func()\\n    return wrapper\\n\\n@do_twice\\ndef greet(name):\\n    print(f\"Hello {name}\")',\n",
       "  'greet(\"World\")',\n",
       "  '# Decorating Functions With Arguments\\n\\ndef do_twice(func):\\n    def wrapper(*args, **kwargs):\\n        func(*args, **kwargs)\\n        func(*args, **kwargs)\\n    return wrapper\\n\\n@do_twice\\ndef greet(name):\\n    print(f\"Hello {name}\")',\n",
       "  'greet(\"World\")',\n",
       "  'greet(\"Jongmin\")',\n",
       "  '# Decorating Functions With Arguments\\n\\ndef do_twice(func):\\n    def wrapper(*args, **kwargs):\\n        for i in range(n):\\n        func(*args, **kwargs)\\n    return wrapper\\n\\n@do_twice\\ndef greet(name, n):\\n    print(f\"Hello {name}\")',\n",
       "  '# Decorating Functions With Arguments\\n\\ndef do_twice(func):\\n    def wrapper(*args, **kwargs):\\n        for i in range(n):\\n        func(*args, **kwargs)\\n    return wrapper\\n\\n@do_twice\\ndef greet(name, n):\\n    print(f\"Hello {name}\")',\n",
       "  '# Decorating Functions With Arguments\\n\\ndef do_twice(func):\\n    def wrapper(*args, **kwargs):\\n        for i in range(n):\\n            func(*args, **kwargs)\\n    return wrapper\\n\\n@do_twice\\ndef greet(name, n):\\n    print(f\"Hello {name}\")',\n",
       "  '# Decorating Functions With Arguments\\n\\ndef do_twice(func):\\n    def wrapper(*args, **kwargs):\\n        for i in range(**kwargs):\\n            func(*args, **kwargs)\\n    return wrapper\\n\\n@do_twice\\ndef greet(name, n):\\n    print(f\"Hello {name}\")',\n",
       "  'greet(\"Jongmin\", 10)',\n",
       "  '# Decorating Functions With Arguments\\n\\ndef do_twice(func):\\n    def wrapper(*args, **kwargs):\\n        for i in range(**kwargs):\\n            func(*args, **kwargs)\\n    return wrapper\\n\\n@do_twice\\ndef greet(name, n):\\n    print(f\"Hello {name}\")',\n",
       "  'greet(\"Jongmin\", 10)',\n",
       "  '# Decorating Functions With Arguments\\n\\ndef do_twice(func):\\n    def wrapper(*args, **kwargs):\\n            func(*args, **kwargs)\\n            func(*args, **kwargs)\\n    return wrapper\\n\\n@do_twice\\ndef say_whee():\\n    print(\"Whee!\")\\n    \\n@do_twice\\ndef greet(name, n):\\n    print(f\"Hello {name}\")',\n",
       "  'say_whee()\\ngreet(\"Jongmin\")',\n",
       "  '# Decorating Functions With Arguments\\n\\ndef do_twice(func):\\n    def wrapper(*args, **kwargs):\\n            func(*args, **kwargs)\\n            func(*args, **kwargs)\\n    return wrapper\\n\\n@do_twice\\ndef say_whee():\\n    print(\"Whee!\")\\n    \\n@do_twice\\ndef greet(name):\\n    print(f\"Hello {name}\")',\n",
       "  'say_whee()\\ngreet(\"Jongmin\")',\n",
       "  'greet(\"Jongmin\")',\n",
       "  'say_whee()',\n",
       "  '# Decorating Functions With Arguments\\n\\ndef do_twice(func):\\n    def wrapper(*args, **kwargs):\\n            func(*args, **kwargs)\\n            func(*args, **kwargs)\\n    return wrapper\\n\\n@do_twice\\ndef say_whee():\\n    print(\"Whee!\")\\n    \\n@do_twice\\ndef greet(name):\\n    print(f\"Hello {name}\")\\n    \\n@do_twice\\ndef return_greeting(name):\\n    print(\"Creating greeting\")\\n    return f\"Hi {name}\"',\n",
       "  'say_whee()',\n",
       "  'greet(\"Jongmin\")',\n",
       "  '# Decorating Functions With Arguments\\n\\ndef do_twice(func):\\n    def wrapper(*args, **kwargs):\\n            func(*args, **kwargs)\\n            func(*args, **kwargs)\\n    return wrapper\\n\\n@do_twice\\ndef say_whee():\\n    print(\"Whee!\")\\n    \\n@do_twice\\ndef greet(name):\\n    print(f\"Hello {name}\")\\n    \\n@do_twice\\ndef return_greeting(name):\\n    print(\"Creating greeting\")\\n    return f\"Hi {name}\"',\n",
       "  'say_whee()',\n",
       "  'greet(\"Jongmin\")',\n",
       "  'hi_Jongmin = return_greeting(\"Jongmin\")',\n",
       "  '# Decorating Functions With Arguments\\n\\ndef do_twice(func):\\n    def wrapper_do_twice(*args, **kwargs):\\n        func(*args, **kwargs)\\n        return func(*args, **kwargs)\\n    return wrapper\\n\\n@do_twice\\ndef say_whee():\\n    print(\"Whee!\")\\n    \\n@do_twice\\ndef greet(name):\\n    print(f\"Hello {name}\")\\n    \\n@do_twice\\ndef return_greeting(name):\\n    print(\"Creating greeting\")\\n    return f\"Hi {name}\"',\n",
       "  '# Decorating Functions With Arguments\\n\\ndef do_twice(func):\\n    def wrapper_do_twice(*args, **kwargs):\\n        func(*args, **kwargs)\\n        return func(*args, **kwargs)\\n    return wrapper_do_twice\\n\\n@do_twice\\ndef say_whee():\\n    print(\"Whee!\")\\n    \\n@do_twice\\ndef greet(name):\\n    print(f\"Hello {name}\")\\n    \\n@do_twice\\ndef return_greeting(name):\\n    print(\"Creating greeting\")\\n    return f\"Hi {name}\"',\n",
       "  'say_whee()',\n",
       "  'greet(\"Jongmin\")',\n",
       "  'hi_Jongmin = return_greeting(\"Jongmin\")',\n",
       "  'return_greeting(\"Jongmin\")',\n",
       "  'say_whee',\n",
       "  'say_whee.__name__',\n",
       "  'help(say_whee)',\n",
       "  'import functools\\nimport time\\n\\ndef slow_down(func):\\n    \"\"\"Sleep 1 second before calling the function\"\"\"\\n    @functools.wraps(func)\\n    def wrapper_slow_down(*args, **kwargs):\\n        time.sleep(1)\\n        return func(*args, **kwargs)\\n    return wrapper_slow_down\\n\\n@slow_down\\ndef countdown(from_number):\\n    if from_number < 1:\\n        print(\"Liftoff!\")\\n    else:\\n        print(from_number)\\n        countdown(from_number - 1)',\n",
       "  'countdown(10)',\n",
       "  'globals()'],\n",
       " '_oh': {3: <function __main__.my_decorator.<locals>.wrapper()>,\n",
       "  18: <function __main__.my_decorator.<locals>.wrapper()>,\n",
       "  58: 'Hi Jongmin',\n",
       "  59: <function __main__.do_twice.<locals>.wrapper_do_twice(*args, **kwargs)>,\n",
       "  60: 'wrapper_do_twice'},\n",
       " '_dh': ['/Users/sungj4/personal/jmsung-research/notes'],\n",
       " 'In': ['',\n",
       "  'def my_decorator(func):\\n    def wrapper():\\n        print(\"Something is happening before the function is called.\")\\n        func()\\n        print(\"Something is happening after the function is called.\")\\n    return wrapper\\n\\ndef say_whee():\\n    print(\"Whee!\")\\n\\nsay_whee = my_decorator(say_whee)',\n",
       "  'say_whee()',\n",
       "  'say_whee',\n",
       "  'from datetime import datetime\\n\\ndef not_during_the_night(func):\\n    def wrapper():\\n        if 7 <= datetime.now().hour < 22:\\n            func()\\n        else:\\n            pass  # Hush, the neighbors are asleep\\n    return wrapper\\n\\ndef say_whee():\\n    print(\"Whee!\")\\n\\nsay_whee = not_during_the_night(say_whee)',\n",
       "  'say_whee()',\n",
       "  'from datetime import datetime\\n\\ndef not_during_the_night(func):\\n    def wrapper():\\n        if 7 <= datetime.now().hour < 22:\\n            func()\\n        else:\\n            pass  # Hush, the neighbors are asleep\\n    print(datetime.now().hour)\\n    return wrapper\\n\\ndef say_whee():\\n    print(\"Whee!\")\\n\\nsay_whee = not_during_the_night(say_whee)',\n",
       "  'say_whee()',\n",
       "  'from datetime import datetime\\n\\ndef not_during_the_night(func):\\n    def wrapper():\\n        if 7 <= datetime.now().hour < 22:\\n            func()\\n        else:\\n            pass  # Hush, the neighbors are asleep\\n    return wrapper\\n\\ndef say_whee():\\n    print(datetime.now().hour)\\n    print(\"Whee!\")\\n\\nsay_whee = not_during_the_night(say_whee)',\n",
       "  'say_whee()',\n",
       "  'from datetime import datetime\\n\\ndef not_during_the_night(func):\\n    def wrapper():\\n        if 7 <= datetime.now().hour < 22:\\n            func()\\n        else:\\n            pass  # Hush, the neighbors are asleep\\n    return wrapper\\n\\ndef say_whee():\\n    print(datetime.now().hour)\\n    print(\"Whee!\")\\n\\nsay_whee = not_during_the_night(say_whee)',\n",
       "  'say_whee()',\n",
       "  'from datetime import datetime\\n\\ndef not_during_the_night(func):\\n    def wrapper():\\n        if 7 <= datetime.now().hour < 22:\\n            func()\\n        else:\\n            pass  # Hush, the neighbors are asleep\\n    return wrapper\\n\\ndef say_whee():\\n    print(datetime.now().hour)\\n    print(\"Whee!\")\\n\\nsay_whee = not_during_the_night(say_whee)',\n",
       "  'say_whee()',\n",
       "  'say_whee()',\n",
       "  'def my_decorator(func):\\n    def wrapper():\\n        print(\"Something is happening before the function is called.\")\\n        func()\\n        print(\"Something is happening after the function is called.\")\\n    return wrapper\\n\\n@my_decorator\\ndef say_whee():\\n    print(\"Whee!\")',\n",
       "  'my_decorator()',\n",
       "  'my_decorator(say_whee)()',\n",
       "  'my_decorator(say_whee)',\n",
       "  'my_decorator()',\n",
       "  'say_whee()',\n",
       "  '#  Python allows you to use decorators in a simpler way with the @ symbol, sometimes called the “pie” syntax. \\n\\ndef my_decorator(func):\\n    def wrapper():\\n        print(\"Something is happening before the function is called.\")\\n        func()\\n        print(\"Something is happening after the function is called.\")\\n    return wrapper\\n\\n@my_decorator\\ndef say_whee():\\n    print(\"Whee!\")',\n",
       "  '#  Python allows you to use decorators in a simpler way with the @ symbol, sometimes called the “pie” syntax. \\n\\ndef my_decorator(func):\\n    def wrapper():\\n        print(\"Something is happening before the function is called.\")\\n        func()\\n        print(\"Something is happening after the function is called.\")\\n    return wrapper\\n\\n@my_decorator\\ndef say_whee():\\n    print(\"Whee!\")',\n",
       "  '#  Python allows you to use decorators in a simpler way with the @ symbol, sometimes called the “pie” syntax. \\n\\ndef my_decorator(func):\\n    def wrapper():\\n        print(\"Something is happening before the function is called.\")\\n        func()\\n        print(\"Something is happening after the function is called.\")\\n    return wrapper\\n\\n@my_decorator\\ndef say_whee():\\n    print(\"Whee!\")',\n",
       "  '#  Python allows you to use decorators in a simpler way with the @ symbol, \\n# sometimes called the “pie” syntax. \\n\\ndef my_decorator(func):\\n    def wrapper():\\n        print(\"Something is happening before the function is called.\")\\n        func()\\n        print(\"Something is happening after the function is called.\")\\n    return wrapper\\n\\n@my_decorator\\ndef say_whee():\\n    print(\"Whee!\")',\n",
       "  '# Python allows you to use decorators in a simpler way with the @ symbol, \\n# sometimes called the “pie” syntax. \\n\\ndef my_decorator(func):\\n    def wrapper():\\n        print(\"Something is happening before the function is called.\")\\n        func()\\n        print(\"Something is happening after the function is called.\")\\n    return wrapper\\n\\n@my_decorator\\ndef say_whee():\\n    print(\"Whee!\")',\n",
       "  '# Python allows you to use decorators in a simpler way with the @ symbol, \\n# sometimes called the “pie” syntax. \\n\\ndef do_twice(func):\\n    def wrapper():\\n        func()\\n        func()\\n    return wrapper\\n\\n@do_twice\\ndef say_whee():\\n    print(\"Whee!\")',\n",
       "  'say_whee()',\n",
       "  '# Decorating Functions With Arguments\\n\\ndef do_twice(func):\\n    def wrapper():\\n        func()\\n        func()\\n    return wrapper\\n\\n@do_twice\\ndef greet(name):\\n    print(f\"Hello {name}\")',\n",
       "  'greet(\"World\")',\n",
       "  '# Decorating Functions With Arguments\\n\\ndef do_twice(func):\\n    def wrapper(*args, **kwargs):\\n        func(*args, **kwargs)\\n        func(*args, **kwargs)\\n    return wrapper\\n\\n@do_twice\\ndef greet(name):\\n    print(f\"Hello {name}\")',\n",
       "  'greet(\"World\")',\n",
       "  'greet(\"Jongmin\")',\n",
       "  '# Decorating Functions With Arguments\\n\\ndef do_twice(func):\\n    def wrapper(*args, **kwargs):\\n        for i in range(n):\\n        func(*args, **kwargs)\\n    return wrapper\\n\\n@do_twice\\ndef greet(name, n):\\n    print(f\"Hello {name}\")',\n",
       "  '# Decorating Functions With Arguments\\n\\ndef do_twice(func):\\n    def wrapper(*args, **kwargs):\\n        for i in range(n):\\n        func(*args, **kwargs)\\n    return wrapper\\n\\n@do_twice\\ndef greet(name, n):\\n    print(f\"Hello {name}\")',\n",
       "  '# Decorating Functions With Arguments\\n\\ndef do_twice(func):\\n    def wrapper(*args, **kwargs):\\n        for i in range(n):\\n            func(*args, **kwargs)\\n    return wrapper\\n\\n@do_twice\\ndef greet(name, n):\\n    print(f\"Hello {name}\")',\n",
       "  '# Decorating Functions With Arguments\\n\\ndef do_twice(func):\\n    def wrapper(*args, **kwargs):\\n        for i in range(**kwargs):\\n            func(*args, **kwargs)\\n    return wrapper\\n\\n@do_twice\\ndef greet(name, n):\\n    print(f\"Hello {name}\")',\n",
       "  'greet(\"Jongmin\", 10)',\n",
       "  '# Decorating Functions With Arguments\\n\\ndef do_twice(func):\\n    def wrapper(*args, **kwargs):\\n        for i in range(**kwargs):\\n            func(*args, **kwargs)\\n    return wrapper\\n\\n@do_twice\\ndef greet(name, n):\\n    print(f\"Hello {name}\")',\n",
       "  'greet(\"Jongmin\", 10)',\n",
       "  '# Decorating Functions With Arguments\\n\\ndef do_twice(func):\\n    def wrapper(*args, **kwargs):\\n            func(*args, **kwargs)\\n            func(*args, **kwargs)\\n    return wrapper\\n\\n@do_twice\\ndef say_whee():\\n    print(\"Whee!\")\\n    \\n@do_twice\\ndef greet(name, n):\\n    print(f\"Hello {name}\")',\n",
       "  'say_whee()\\ngreet(\"Jongmin\")',\n",
       "  '# Decorating Functions With Arguments\\n\\ndef do_twice(func):\\n    def wrapper(*args, **kwargs):\\n            func(*args, **kwargs)\\n            func(*args, **kwargs)\\n    return wrapper\\n\\n@do_twice\\ndef say_whee():\\n    print(\"Whee!\")\\n    \\n@do_twice\\ndef greet(name):\\n    print(f\"Hello {name}\")',\n",
       "  'say_whee()\\ngreet(\"Jongmin\")',\n",
       "  'greet(\"Jongmin\")',\n",
       "  'say_whee()',\n",
       "  '# Decorating Functions With Arguments\\n\\ndef do_twice(func):\\n    def wrapper(*args, **kwargs):\\n            func(*args, **kwargs)\\n            func(*args, **kwargs)\\n    return wrapper\\n\\n@do_twice\\ndef say_whee():\\n    print(\"Whee!\")\\n    \\n@do_twice\\ndef greet(name):\\n    print(f\"Hello {name}\")\\n    \\n@do_twice\\ndef return_greeting(name):\\n    print(\"Creating greeting\")\\n    return f\"Hi {name}\"',\n",
       "  'say_whee()',\n",
       "  'greet(\"Jongmin\")',\n",
       "  '# Decorating Functions With Arguments\\n\\ndef do_twice(func):\\n    def wrapper(*args, **kwargs):\\n            func(*args, **kwargs)\\n            func(*args, **kwargs)\\n    return wrapper\\n\\n@do_twice\\ndef say_whee():\\n    print(\"Whee!\")\\n    \\n@do_twice\\ndef greet(name):\\n    print(f\"Hello {name}\")\\n    \\n@do_twice\\ndef return_greeting(name):\\n    print(\"Creating greeting\")\\n    return f\"Hi {name}\"',\n",
       "  'say_whee()',\n",
       "  'greet(\"Jongmin\")',\n",
       "  'hi_Jongmin = return_greeting(\"Jongmin\")',\n",
       "  '# Decorating Functions With Arguments\\n\\ndef do_twice(func):\\n    def wrapper_do_twice(*args, **kwargs):\\n        func(*args, **kwargs)\\n        return func(*args, **kwargs)\\n    return wrapper\\n\\n@do_twice\\ndef say_whee():\\n    print(\"Whee!\")\\n    \\n@do_twice\\ndef greet(name):\\n    print(f\"Hello {name}\")\\n    \\n@do_twice\\ndef return_greeting(name):\\n    print(\"Creating greeting\")\\n    return f\"Hi {name}\"',\n",
       "  '# Decorating Functions With Arguments\\n\\ndef do_twice(func):\\n    def wrapper_do_twice(*args, **kwargs):\\n        func(*args, **kwargs)\\n        return func(*args, **kwargs)\\n    return wrapper_do_twice\\n\\n@do_twice\\ndef say_whee():\\n    print(\"Whee!\")\\n    \\n@do_twice\\ndef greet(name):\\n    print(f\"Hello {name}\")\\n    \\n@do_twice\\ndef return_greeting(name):\\n    print(\"Creating greeting\")\\n    return f\"Hi {name}\"',\n",
       "  'say_whee()',\n",
       "  'greet(\"Jongmin\")',\n",
       "  'hi_Jongmin = return_greeting(\"Jongmin\")',\n",
       "  'return_greeting(\"Jongmin\")',\n",
       "  'say_whee',\n",
       "  'say_whee.__name__',\n",
       "  'help(say_whee)',\n",
       "  'import functools\\nimport time\\n\\ndef slow_down(func):\\n    \"\"\"Sleep 1 second before calling the function\"\"\"\\n    @functools.wraps(func)\\n    def wrapper_slow_down(*args, **kwargs):\\n        time.sleep(1)\\n        return func(*args, **kwargs)\\n    return wrapper_slow_down\\n\\n@slow_down\\ndef countdown(from_number):\\n    if from_number < 1:\\n        print(\"Liftoff!\")\\n    else:\\n        print(from_number)\\n        countdown(from_number - 1)',\n",
       "  'countdown(10)',\n",
       "  'globals()'],\n",
       " 'Out': {3: <function __main__.my_decorator.<locals>.wrapper()>,\n",
       "  18: <function __main__.my_decorator.<locals>.wrapper()>,\n",
       "  58: 'Hi Jongmin',\n",
       "  59: <function __main__.do_twice.<locals>.wrapper_do_twice(*args, **kwargs)>,\n",
       "  60: 'wrapper_do_twice'},\n",
       " 'get_ipython': <bound method InteractiveShell.get_ipython of <ipykernel.zmqshell.ZMQInteractiveShell object at 0x7f8be83a3520>>,\n",
       " 'exit': <IPython.core.autocall.ZMQExitAutocall at 0x7f8bc01ad130>,\n",
       " 'quit': <IPython.core.autocall.ZMQExitAutocall at 0x7f8bc01ad130>,\n",
       " '_': 'wrapper_do_twice',\n",
       " '__': <function __main__.do_twice.<locals>.wrapper_do_twice(*args, **kwargs)>,\n",
       " '___': 'Hi Jongmin',\n",
       " '_i': 'countdown(10)',\n",
       " '_ii': 'import functools\\nimport time\\n\\ndef slow_down(func):\\n    \"\"\"Sleep 1 second before calling the function\"\"\"\\n    @functools.wraps(func)\\n    def wrapper_slow_down(*args, **kwargs):\\n        time.sleep(1)\\n        return func(*args, **kwargs)\\n    return wrapper_slow_down\\n\\n@slow_down\\ndef countdown(from_number):\\n    if from_number < 1:\\n        print(\"Liftoff!\")\\n    else:\\n        print(from_number)\\n        countdown(from_number - 1)',\n",
       " '_iii': 'help(say_whee)',\n",
       " '_i1': 'def my_decorator(func):\\n    def wrapper():\\n        print(\"Something is happening before the function is called.\")\\n        func()\\n        print(\"Something is happening after the function is called.\")\\n    return wrapper\\n\\ndef say_whee():\\n    print(\"Whee!\")\\n\\nsay_whee = my_decorator(say_whee)',\n",
       " 'my_decorator': <function __main__.my_decorator(func)>,\n",
       " 'say_whee': <function __main__.do_twice.<locals>.wrapper_do_twice(*args, **kwargs)>,\n",
       " '_i2': 'say_whee()',\n",
       " '_i3': 'say_whee',\n",
       " '_3': <function __main__.my_decorator.<locals>.wrapper()>,\n",
       " '_i4': 'from datetime import datetime\\n\\ndef not_during_the_night(func):\\n    def wrapper():\\n        if 7 <= datetime.now().hour < 22:\\n            func()\\n        else:\\n            pass  # Hush, the neighbors are asleep\\n    return wrapper\\n\\ndef say_whee():\\n    print(\"Whee!\")\\n\\nsay_whee = not_during_the_night(say_whee)',\n",
       " 'datetime': datetime.datetime,\n",
       " 'not_during_the_night': <function __main__.not_during_the_night(func)>,\n",
       " '_i5': 'say_whee()',\n",
       " '_i6': 'from datetime import datetime\\n\\ndef not_during_the_night(func):\\n    def wrapper():\\n        if 7 <= datetime.now().hour < 22:\\n            func()\\n        else:\\n            pass  # Hush, the neighbors are asleep\\n    print(datetime.now().hour)\\n    return wrapper\\n\\ndef say_whee():\\n    print(\"Whee!\")\\n\\nsay_whee = not_during_the_night(say_whee)',\n",
       " '_i7': 'say_whee()',\n",
       " '_i8': 'from datetime import datetime\\n\\ndef not_during_the_night(func):\\n    def wrapper():\\n        if 7 <= datetime.now().hour < 22:\\n            func()\\n        else:\\n            pass  # Hush, the neighbors are asleep\\n    return wrapper\\n\\ndef say_whee():\\n    print(datetime.now().hour)\\n    print(\"Whee!\")\\n\\nsay_whee = not_during_the_night(say_whee)',\n",
       " '_i9': 'say_whee()',\n",
       " '_i10': 'from datetime import datetime\\n\\ndef not_during_the_night(func):\\n    def wrapper():\\n        if 7 <= datetime.now().hour < 22:\\n            func()\\n        else:\\n            pass  # Hush, the neighbors are asleep\\n    return wrapper\\n\\ndef say_whee():\\n    print(datetime.now().hour)\\n    print(\"Whee!\")\\n\\nsay_whee = not_during_the_night(say_whee)',\n",
       " '_i11': 'say_whee()',\n",
       " '_i12': 'from datetime import datetime\\n\\ndef not_during_the_night(func):\\n    def wrapper():\\n        if 7 <= datetime.now().hour < 22:\\n            func()\\n        else:\\n            pass  # Hush, the neighbors are asleep\\n    return wrapper\\n\\ndef say_whee():\\n    print(datetime.now().hour)\\n    print(\"Whee!\")\\n\\nsay_whee = not_during_the_night(say_whee)',\n",
       " '_i13': 'say_whee()',\n",
       " '_i14': 'say_whee()',\n",
       " '_i15': 'def my_decorator(func):\\n    def wrapper():\\n        print(\"Something is happening before the function is called.\")\\n        func()\\n        print(\"Something is happening after the function is called.\")\\n    return wrapper\\n\\n@my_decorator\\ndef say_whee():\\n    print(\"Whee!\")',\n",
       " '_i16': 'my_decorator()',\n",
       " '_i17': 'my_decorator(say_whee)()',\n",
       " '_i18': 'my_decorator(say_whee)',\n",
       " '_18': <function __main__.my_decorator.<locals>.wrapper()>,\n",
       " '_i19': 'my_decorator()',\n",
       " '_i20': 'say_whee()',\n",
       " '_i21': '#  Python allows you to use decorators in a simpler way with the @ symbol, sometimes called the “pie” syntax. \\n\\ndef my_decorator(func):\\n    def wrapper():\\n        print(\"Something is happening before the function is called.\")\\n        func()\\n        print(\"Something is happening after the function is called.\")\\n    return wrapper\\n\\n@my_decorator\\ndef say_whee():\\n    print(\"Whee!\")',\n",
       " '_i22': '#  Python allows you to use decorators in a simpler way with the @ symbol, sometimes called the “pie” syntax. \\n\\ndef my_decorator(func):\\n    def wrapper():\\n        print(\"Something is happening before the function is called.\")\\n        func()\\n        print(\"Something is happening after the function is called.\")\\n    return wrapper\\n\\n@my_decorator\\ndef say_whee():\\n    print(\"Whee!\")',\n",
       " '_i23': '#  Python allows you to use decorators in a simpler way with the @ symbol, sometimes called the “pie” syntax. \\n\\ndef my_decorator(func):\\n    def wrapper():\\n        print(\"Something is happening before the function is called.\")\\n        func()\\n        print(\"Something is happening after the function is called.\")\\n    return wrapper\\n\\n@my_decorator\\ndef say_whee():\\n    print(\"Whee!\")',\n",
       " '_i24': '#  Python allows you to use decorators in a simpler way with the @ symbol, \\n# sometimes called the “pie” syntax. \\n\\ndef my_decorator(func):\\n    def wrapper():\\n        print(\"Something is happening before the function is called.\")\\n        func()\\n        print(\"Something is happening after the function is called.\")\\n    return wrapper\\n\\n@my_decorator\\ndef say_whee():\\n    print(\"Whee!\")',\n",
       " '_i25': '# Python allows you to use decorators in a simpler way with the @ symbol, \\n# sometimes called the “pie” syntax. \\n\\ndef my_decorator(func):\\n    def wrapper():\\n        print(\"Something is happening before the function is called.\")\\n        func()\\n        print(\"Something is happening after the function is called.\")\\n    return wrapper\\n\\n@my_decorator\\ndef say_whee():\\n    print(\"Whee!\")',\n",
       " '_i26': '# Python allows you to use decorators in a simpler way with the @ symbol, \\n# sometimes called the “pie” syntax. \\n\\ndef do_twice(func):\\n    def wrapper():\\n        func()\\n        func()\\n    return wrapper\\n\\n@do_twice\\ndef say_whee():\\n    print(\"Whee!\")',\n",
       " 'do_twice': <function __main__.do_twice(func)>,\n",
       " '_i27': 'say_whee()',\n",
       " '_i28': '# Decorating Functions With Arguments\\n\\ndef do_twice(func):\\n    def wrapper():\\n        func()\\n        func()\\n    return wrapper\\n\\n@do_twice\\ndef greet(name):\\n    print(f\"Hello {name}\")',\n",
       " 'greet': <function __main__.do_twice.<locals>.wrapper_do_twice(*args, **kwargs)>,\n",
       " '_i29': 'greet(\"World\")',\n",
       " '_i30': '# Decorating Functions With Arguments\\n\\ndef do_twice(func):\\n    def wrapper(*args, **kwargs):\\n        func(*args, **kwargs)\\n        func(*args, **kwargs)\\n    return wrapper\\n\\n@do_twice\\ndef greet(name):\\n    print(f\"Hello {name}\")',\n",
       " '_i31': 'greet(\"World\")',\n",
       " '_i32': 'greet(\"Jongmin\")',\n",
       " '_i33': '# Decorating Functions With Arguments\\n\\ndef do_twice(func):\\n    def wrapper(*args, **kwargs):\\n        for i in range(n):\\n        func(*args, **kwargs)\\n    return wrapper\\n\\n@do_twice\\ndef greet(name, n):\\n    print(f\"Hello {name}\")',\n",
       " '_i34': '# Decorating Functions With Arguments\\n\\ndef do_twice(func):\\n    def wrapper(*args, **kwargs):\\n        for i in range(n):\\n        func(*args, **kwargs)\\n    return wrapper\\n\\n@do_twice\\ndef greet(name, n):\\n    print(f\"Hello {name}\")',\n",
       " '_i35': '# Decorating Functions With Arguments\\n\\ndef do_twice(func):\\n    def wrapper(*args, **kwargs):\\n        for i in range(n):\\n            func(*args, **kwargs)\\n    return wrapper\\n\\n@do_twice\\ndef greet(name, n):\\n    print(f\"Hello {name}\")',\n",
       " '_i36': '# Decorating Functions With Arguments\\n\\ndef do_twice(func):\\n    def wrapper(*args, **kwargs):\\n        for i in range(**kwargs):\\n            func(*args, **kwargs)\\n    return wrapper\\n\\n@do_twice\\ndef greet(name, n):\\n    print(f\"Hello {name}\")',\n",
       " '_i37': 'greet(\"Jongmin\", 10)',\n",
       " '_i38': '# Decorating Functions With Arguments\\n\\ndef do_twice(func):\\n    def wrapper(*args, **kwargs):\\n        for i in range(**kwargs):\\n            func(*args, **kwargs)\\n    return wrapper\\n\\n@do_twice\\ndef greet(name, n):\\n    print(f\"Hello {name}\")',\n",
       " '_i39': 'greet(\"Jongmin\", 10)',\n",
       " '_i40': '# Decorating Functions With Arguments\\n\\ndef do_twice(func):\\n    def wrapper(*args, **kwargs):\\n            func(*args, **kwargs)\\n            func(*args, **kwargs)\\n    return wrapper\\n\\n@do_twice\\ndef say_whee():\\n    print(\"Whee!\")\\n    \\n@do_twice\\ndef greet(name, n):\\n    print(f\"Hello {name}\")',\n",
       " '_i41': 'say_whee()\\ngreet(\"Jongmin\")',\n",
       " '_i42': '# Decorating Functions With Arguments\\n\\ndef do_twice(func):\\n    def wrapper(*args, **kwargs):\\n            func(*args, **kwargs)\\n            func(*args, **kwargs)\\n    return wrapper\\n\\n@do_twice\\ndef say_whee():\\n    print(\"Whee!\")\\n    \\n@do_twice\\ndef greet(name):\\n    print(f\"Hello {name}\")',\n",
       " '_i43': 'say_whee()\\ngreet(\"Jongmin\")',\n",
       " '_i44': 'greet(\"Jongmin\")',\n",
       " '_i45': 'say_whee()',\n",
       " '_i46': '# Decorating Functions With Arguments\\n\\ndef do_twice(func):\\n    def wrapper(*args, **kwargs):\\n            func(*args, **kwargs)\\n            func(*args, **kwargs)\\n    return wrapper\\n\\n@do_twice\\ndef say_whee():\\n    print(\"Whee!\")\\n    \\n@do_twice\\ndef greet(name):\\n    print(f\"Hello {name}\")\\n    \\n@do_twice\\ndef return_greeting(name):\\n    print(\"Creating greeting\")\\n    return f\"Hi {name}\"',\n",
       " 'return_greeting': <function __main__.do_twice.<locals>.wrapper_do_twice(*args, **kwargs)>,\n",
       " '_i47': 'say_whee()',\n",
       " '_i48': 'greet(\"Jongmin\")',\n",
       " '_i49': '# Decorating Functions With Arguments\\n\\ndef do_twice(func):\\n    def wrapper(*args, **kwargs):\\n            func(*args, **kwargs)\\n            func(*args, **kwargs)\\n    return wrapper\\n\\n@do_twice\\ndef say_whee():\\n    print(\"Whee!\")\\n    \\n@do_twice\\ndef greet(name):\\n    print(f\"Hello {name}\")\\n    \\n@do_twice\\ndef return_greeting(name):\\n    print(\"Creating greeting\")\\n    return f\"Hi {name}\"',\n",
       " '_i50': 'say_whee()',\n",
       " '_i51': 'greet(\"Jongmin\")',\n",
       " '_i52': 'hi_Jongmin = return_greeting(\"Jongmin\")',\n",
       " 'hi_Jongmin': 'Hi Jongmin',\n",
       " '_i53': '# Decorating Functions With Arguments\\n\\ndef do_twice(func):\\n    def wrapper_do_twice(*args, **kwargs):\\n        func(*args, **kwargs)\\n        return func(*args, **kwargs)\\n    return wrapper\\n\\n@do_twice\\ndef say_whee():\\n    print(\"Whee!\")\\n    \\n@do_twice\\ndef greet(name):\\n    print(f\"Hello {name}\")\\n    \\n@do_twice\\ndef return_greeting(name):\\n    print(\"Creating greeting\")\\n    return f\"Hi {name}\"',\n",
       " '_i54': '# Decorating Functions With Arguments\\n\\ndef do_twice(func):\\n    def wrapper_do_twice(*args, **kwargs):\\n        func(*args, **kwargs)\\n        return func(*args, **kwargs)\\n    return wrapper_do_twice\\n\\n@do_twice\\ndef say_whee():\\n    print(\"Whee!\")\\n    \\n@do_twice\\ndef greet(name):\\n    print(f\"Hello {name}\")\\n    \\n@do_twice\\ndef return_greeting(name):\\n    print(\"Creating greeting\")\\n    return f\"Hi {name}\"',\n",
       " '_i55': 'say_whee()',\n",
       " '_i56': 'greet(\"Jongmin\")',\n",
       " '_i57': 'hi_Jongmin = return_greeting(\"Jongmin\")',\n",
       " '_i58': 'return_greeting(\"Jongmin\")',\n",
       " '_58': 'Hi Jongmin',\n",
       " '_i59': 'say_whee',\n",
       " '_59': <function __main__.do_twice.<locals>.wrapper_do_twice(*args, **kwargs)>,\n",
       " '_i60': 'say_whee.__name__',\n",
       " '_60': 'wrapper_do_twice',\n",
       " '_i61': 'help(say_whee)',\n",
       " '_i62': 'import functools\\nimport time\\n\\ndef slow_down(func):\\n    \"\"\"Sleep 1 second before calling the function\"\"\"\\n    @functools.wraps(func)\\n    def wrapper_slow_down(*args, **kwargs):\\n        time.sleep(1)\\n        return func(*args, **kwargs)\\n    return wrapper_slow_down\\n\\n@slow_down\\ndef countdown(from_number):\\n    if from_number < 1:\\n        print(\"Liftoff!\")\\n    else:\\n        print(from_number)\\n        countdown(from_number - 1)',\n",
       " 'functools': <module 'functools' from '/Users/sungj4/miniconda3/envs/jmsung/lib/python3.8/functools.py'>,\n",
       " 'time': <module 'time' (built-in)>,\n",
       " 'slow_down': <function __main__.slow_down(func)>,\n",
       " 'countdown': <function __main__.countdown(from_number)>,\n",
       " '_i63': 'countdown(10)',\n",
       " '_i64': 'globals()'}"
      ]
     },
     "execution_count": 64,
     "metadata": {},
     "output_type": "execute_result"
    }
   ],
   "source": [
    "globals()"
   ]
  },
  {
   "cell_type": "code",
   "execution_count": null,
   "metadata": {},
   "outputs": [],
   "source": []
  }
 ],
 "metadata": {
  "kernelspec": {
   "display_name": "Python 3",
   "language": "python",
   "name": "python3"
  },
  "language_info": {
   "codemirror_mode": {
    "name": "ipython",
    "version": 3
   },
   "file_extension": ".py",
   "mimetype": "text/x-python",
   "name": "python",
   "nbconvert_exporter": "python",
   "pygments_lexer": "ipython3",
   "version": "3.8.2"
  }
 },
 "nbformat": 4,
 "nbformat_minor": 4
}
