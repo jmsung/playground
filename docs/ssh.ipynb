{
 "cells": [
  {
   "cell_type": "markdown",
   "metadata": {},
   "source": [
    "# SSH\n",
    "* Secure Shell (SSH)\n",
    "\n",
    "### Setup\n",
    "\n",
    "1. Following is a protocol to connect to the simc2 server (shared google cloud) as an example.   \n",
    "\n",
    "\n",
    "2. Make `~/.ssh/configure`   \n",
    "\n",
    "\n",
    "3. Paste the following in the `configure` file:   \n",
    "\n",
    "```\n",
    "Host simc2\n",
    "HostName 10.159.230.56\n",
    "\n",
    "Host sungj4-server\n",
    "HostName 10.159.234.227\n",
    "\n",
    "Host sungj4-sim\n",
    "HostName 10.159.234.230\n",
    "\n",
    "Host sungj4-deb9\n",
    "HostName 10.159.234.231\n",
    "\n",
    "Port 22\n",
    "user sungj4\n",
    "ForwardX11 yes\n",
    "ForwardX11Timeout 10h\n",
    "ForwardAgent yes\n",
    "```\n",
    "\n",
    "\n",
    "4. Generate `id_rsa` and `id_rsa.pub` key   \n",
    "`$ ssh-keygen -t rsa`\n",
    "\n",
    "\n",
    "5. Copy the public key into the server (simc2).   \n",
    "`$ ssh-copy-id sungj4@simc2`\n",
    "\n",
    "This will make a file in the server (simc2).   \n",
    "`.ssh/authrized_keys`\n",
    "\n",
    "\n",
    "6. Update the permission of .ssh in the local and the server   \n",
    "```\n",
    "$ chmod 755 ~ \n",
    "$ chmod 700 ~/.ssh\n",
    "$ chmod 600 ~/.ssh/id_rsa\n",
    "$ chmod 600 ~/.ssh/authorized_keys\n",
    "```\n",
    "\n",
    "\n",
    "Now I can connect to simc2 from my local machine without id/passwd.   \n",
    "`$ ssh simc2`\n",
    "\n",
    "\n"
   ]
  },
  {
   "cell_type": "markdown",
   "metadata": {},
   "source": [
    "# SSHFS\n",
    "* Mount Remote File Systems Over SSH\n",
    "* https://www.digitalocean.com/community/tutorials/how-to-use-sshfs-to-mount-remote-file-systems-over-ssh\n",
    "\n",
    "\n",
    "### Install sshfs\n",
    "* Ubuntu: $ sudo apt-get install sshfs   \n",
    "* Mac: Install FUSE and SSHFS from the osxfuse site   \n",
    "\n",
    "### Mount   \n",
    "1. Create a local mount_point     \n",
    "`$ sudo mkdir /mnt/D1`   \n",
    "`$ sudo chown sungj4 /mnt/D1`   \n",
    "\n",
    "\n",
    "2. Manual mount      \n",
    "`$ sshfs -o allow_other sungj4@sungj4-server:/mnt/D1 /mnt/D1`\n",
    "\n",
    "\n",
    "3. Automatic mount\n",
    "\n",
    "* Put this in the `.bashrc`. Disk will be mounted unless already mounted. \n",
    "\n",
    "```\n",
    "(Mac)\n",
    "if ! df | awk '{print $9}' | grep -Ex \"/mnt/D1\"; then\n",
    "    sshfs -o allow_other sungj4@sungj4-server:/mnt/D1 /mnt/D1\n",
    "fi\n",
    "\n",
    "(Linux)\n",
    "if ! grep -qs '/mnt/D1 ' /proc/mounts; then\n",
    "    sshfs -o allow_other sungj4@sungj4-server:/mnt/D1 /mnt/D1\n",
    "fi\n",
    "```\n",
    "\n",
    "4. Unmounting the Remote File System   \n",
    "`$ sudo umount /mnt/D1`\n",
    "\n",
    "5. Permanently Mounting the Remote File System   \n",
    "\n",
    "* Open fstab   \n",
    "`$ sudo vim /etc/fstab`  \n",
    "\n",
    "* And add the following line in the file.    \n",
    "`sshfs#root@xxx.xxx.xxx.xxx:/ /mnt/droplet`\n"
   ]
  },
  {
   "cell_type": "code",
   "execution_count": null,
   "metadata": {},
   "outputs": [],
   "source": []
  },
  {
   "cell_type": "code",
   "execution_count": null,
   "metadata": {},
   "outputs": [],
   "source": []
  },
  {
   "cell_type": "code",
   "execution_count": null,
   "metadata": {},
   "outputs": [],
   "source": []
  },
  {
   "cell_type": "code",
   "execution_count": null,
   "metadata": {},
   "outputs": [],
   "source": []
  },
  {
   "cell_type": "code",
   "execution_count": null,
   "metadata": {},
   "outputs": [],
   "source": []
  },
  {
   "cell_type": "code",
   "execution_count": null,
   "metadata": {},
   "outputs": [],
   "source": []
  },
  {
   "cell_type": "code",
   "execution_count": null,
   "metadata": {},
   "outputs": [],
   "source": []
  },
  {
   "cell_type": "code",
   "execution_count": null,
   "metadata": {},
   "outputs": [],
   "source": []
  },
  {
   "cell_type": "code",
   "execution_count": null,
   "metadata": {},
   "outputs": [],
   "source": []
  },
  {
   "cell_type": "code",
   "execution_count": null,
   "metadata": {},
   "outputs": [],
   "source": []
  },
  {
   "cell_type": "code",
   "execution_count": null,
   "metadata": {},
   "outputs": [],
   "source": []
  },
  {
   "cell_type": "code",
   "execution_count": null,
   "metadata": {},
   "outputs": [],
   "source": []
  },
  {
   "cell_type": "code",
   "execution_count": null,
   "metadata": {},
   "outputs": [],
   "source": []
  },
  {
   "cell_type": "code",
   "execution_count": null,
   "metadata": {},
   "outputs": [],
   "source": []
  },
  {
   "cell_type": "code",
   "execution_count": null,
   "metadata": {},
   "outputs": [],
   "source": []
  },
  {
   "cell_type": "code",
   "execution_count": null,
   "metadata": {},
   "outputs": [],
   "source": []
  },
  {
   "cell_type": "code",
   "execution_count": null,
   "metadata": {},
   "outputs": [],
   "source": []
  },
  {
   "cell_type": "code",
   "execution_count": null,
   "metadata": {},
   "outputs": [],
   "source": []
  },
  {
   "cell_type": "code",
   "execution_count": null,
   "metadata": {},
   "outputs": [],
   "source": []
  },
  {
   "cell_type": "code",
   "execution_count": null,
   "metadata": {},
   "outputs": [],
   "source": []
  }
 ],
 "metadata": {
  "kernelspec": {
   "display_name": "Python 3",
   "language": "python",
   "name": "python3"
  },
  "language_info": {
   "codemirror_mode": {
    "name": "ipython",
    "version": 3
   },
   "file_extension": ".py",
   "mimetype": "text/x-python",
   "name": "python",
   "nbconvert_exporter": "python",
   "pygments_lexer": "ipython3",
   "version": "3.8.2"
  }
 },
 "nbformat": 4,
 "nbformat_minor": 4
}
