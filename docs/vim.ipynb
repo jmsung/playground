{
 "cells": [
  {
   "cell_type": "markdown",
   "metadata": {},
   "source": [
    "# vim"
   ]
  },
  {
   "cell_type": "markdown",
   "metadata": {},
   "source": [
    "# File\n",
    "* `vim file`: open your file in vim\n",
    "* `:w`: write your changes to the file\n",
    "* `:q!`: get out of vim (quit), but without saving your changes (!)\n",
    "* `:wq or :x`: write your changes and exit vim\n",
    "* `ZZ`: a faster way to do :wq or :x\n",
    "* `:saveas ~/some/path/`: save your file to that location \n"
   ]
  },
  {
   "cell_type": "markdown",
   "metadata": {},
   "source": [
    "# Moving around in your text\n",
    "\n",
    "### Basic motions\n",
    "* `h`: Move left (10 left 10h)\n",
    "* `j`: Move down (5 down 5j)\n",
    "* `k`: Move up (7 up 7k)\n",
    "* `l`: Move right (3 right 3l)\n",
    "\n",
    "### Moving within the line\n",
    "* `0`: Move cursor to the beginning of current line\n",
    "* `$`: Move cursor to the beginning of current line\n",
    "* `^`: move to the first non-blank character in the line\n",
    "\n",
    "### Moving by word\n",
    "* `w`: Move cursor to the beginning of the next word\n",
    "* `e`: Move cursor to the end of the current word\n",
    "* `b`: Move cursor to the beginning of the previous word\n",
    "* `W`: Move forward one big word\n",
    "* `B`: Move back one big word\n",
    "\n",
    "### Moving by sentence or paragraph\n",
    "* `) or (`: Move forward or backward one sentence\n",
    "* `} or {`: Move forward or backward one paragraph\n",
    "\n",
    "### Moving within the screen\n",
    "* `H`: move to the top of the screen\n",
    "* `M`: move to the middle of the screen\n",
    "* `L`: move to the bottom of the screen\n",
    "* `gg`: go to the top of the file\n",
    "* `G`: go to the bottom of the file\n",
    "* `Ctrl + u`: move up half a screen\n",
    "* `Ctrl + d`: move down half a screen\n",
    "* `Ctrl + f`: page down\n",
    "* `Ctrl + b`: page up\n",
    "* `:n`: Jump to the nth line\n",
    "* `:0`: Jump to the start of file\n",
    "* `:$`: Jump to the end of file\n",
    "* `Ctrl + E`: scroll up one line\n",
    "* `Ctrl + Y`: scroll down one line\n",
    "\n",
    "### Jumping back and forth\n",
    "* `Ctrl + i`: jump to your previous navigation location\n",
    "* `Ctrl + o`: jump back to where you were"
   ]
  },
  {
   "cell_type": "markdown",
   "metadata": {},
   "source": [
    "# Editing\n",
    "\n",
    "* `i`: Insert text before cursor\n",
    "* `I`: Insert text at the beginning of line\n",
    "* `a`: Append text after cursor\n",
    "* `A`: Append text at the end of line\n",
    "* `o`: Open new line below cursor\n",
    "* `O`: Open new line above cursor\n",
    "* `s`: Substitute text\n",
    "* `S`: Substitute line\n",
    "* `cc`: Substitute line\n",
    "* `C`: Change text from current cursor position\n",
    "* `r`: Replace single character\n",
    "* `R`: Replace entire line\n",
    "* `J`: Join two lines\n",
    "* `> or <`: Indent a set of lines"
   ]
  },
  {
   "cell_type": "markdown",
   "metadata": {},
   "source": [
    "# Revisiting Editing\n",
    "\n",
    "* `x`: Delete character from cursor position\n",
    "* `X`: Delete previous character from cursor position\n",
    "* `y`: Copy single character from cursor position\n",
    "* `p`: Paste character after cursor position\n",
    "* `P`: Paste character before cursor position\n",
    "* `dm`: delete whatever you define as a movement\n",
    "* `dw`: Delete word from cursor position (delete 3 words: 3dw)\n",
    "* `D`: Delete entire line from cursor position\n",
    "* `dd`: Delete entire line\n",
    "* `Y`: Copies entire line\n",
    "* `yy`: Copies entire line\n",
    "* `u`: Undo\n",
    "* `3u`: Undo last 3 actions\n",
    "* `U`: Undo all execute following command\n",
    "* `Ctrl+r or :red`: Redo\n",
    "* `.`: to repeat your last action (5.: repeat last 5 action)"
   ]
  },
  {
   "cell_type": "markdown",
   "metadata": {},
   "source": [
    "# Searching\n",
    "\n",
    "### Forward\n",
    "* `/<expression>`: Search expression in forward direction\n",
    "* `n`: Find next occurrence\n",
    "* `N`: Find previous occurrence\n",
    "* `//`: Repeat previous forward search\n",
    "    \n",
    "### Backward\n",
    "* `?`: Search expression in backward direction\n",
    "* `n`: Find previous occurrence\n",
    "* `N`: Find next occurrence\n",
    "* `??`: Repeat previous backward search\n",
    "    \n",
    "### Word under cursor\n",
    "* `*`: Search next occurrence of current word\n",
    "* `#`: Search previous occurrence of current word\n",
    "    \n",
    "### Multiple files\n",
    "* `vimgrep test *.txt`: searches string (test) in all text files\n",
    "* `cn`: Go to next occurrence of expression\n",
    "* `cN`: Go to previous occurrence of expression"
   ]
  },
  {
   "cell_type": "markdown",
   "metadata": {},
   "source": [
    "# Visual mode\n",
    "\n",
    "* `v`: Character mode\n",
    "* `V`: Line mode\n",
    "* `Ctrl+v`: Block mode"
   ]
  },
  {
   "cell_type": "markdown",
   "metadata": {},
   "source": [
    "# Substitution\n",
    "\n",
    "* `:%s /foo/bar/g`: Change \"foo\" to \"bar\" on every line\n",
    "* `:s /foo/bar/g`: Change \"foo\" to \"bar\" on just the current line\n"
   ]
  },
  {
   "cell_type": "markdown",
   "metadata": {},
   "source": [
    "# Macros\n",
    "\n",
    "* `qa`: start recording a macro named \"a\"\n",
    "* `q`: stop recording\n",
    "* `@a`: play back the macro"
   ]
  },
  {
   "cell_type": "markdown",
   "metadata": {},
   "source": [
    "# Show difference\n",
    "\n",
    "* `$ vimdiff <file> <file>` \n",
    "* `$ vim –d <file> <file>`\n",
    "* `Ctrl + w Ctrl + w`: Switch between diff windows\n",
    "* `:diffget`: Applying change in current diff windows\n",
    "* `:diffput`: Apply change from current pane to another"
   ]
  },
  {
   "cell_type": "markdown",
   "metadata": {},
   "source": [
    "# Vim as Language\n",
    "\n",
    "### Verbs\n",
    "* `d`: delete\n",
    "* `c`: change\n",
    "* `y`: yank (copy)\n",
    "* `v`: visually select (V for line vs. character)\n",
    "\n",
    "### Modifiers\n",
    "* `i`: inside\n",
    "* `a`: around\n",
    "* `NUM`: number (e.g.: 1, 2, 10)\n",
    "* `t`: searches for something and stops before it\n",
    "* `f`: searches for that thing and lands on it\n",
    "* `/`: find a string (literal or regex)\n",
    "\n",
    "### Nouns\n",
    "* `w`: word\n",
    "* `s`: sentence\n",
    "* `)`: sentence (another way of doing it)\n",
    "* `p`: paragraph\n",
    "* `}`: paragraph (another way of doing it)\n",
    "* `t`: tag (think HTML/XML)\n",
    "* `b`: block (think programming)\n",
    "\n",
    "### Examples\n",
    "* `d2w`: Delete two words\n",
    "* `cis`: Change inside sentence\n",
    "* `yip`: Yank inside paragraph\n",
    "* `ct<`: Change to open bracket"
   ]
  },
  {
   "cell_type": "markdown",
   "metadata": {},
   "source": [
    "# ~/.vimrc configuration\n",
    "\n",
    "From Ian\n",
    "```\n",
    "filetype plugin indent on\n",
    "\" show existing tab with 4 spaces width\n",
    "set tabstop=4\n",
    "\" when indenting with '>', use 4 spaces width\n",
    "set shiftwidth=4\n",
    "\" On pressing tab, insert 4 spaces\n",
    "set expandtab\n",
    "syntax on\n",
    "```\n",
    "\n",
    "https://github.com/amix/vimrc/blob/master/vimrcs/basic.vim\n"
   ]
  },
  {
   "cell_type": "markdown",
   "metadata": {},
   "source": [
    "# References\n",
    "\n",
    "* https://www.tutorialspoint.com/vim/vim_diff.htm\n",
    "* https://danielmiessler.com/study/vim/"
   ]
  },
  {
   "cell_type": "code",
   "execution_count": null,
   "metadata": {},
   "outputs": [],
   "source": []
  }
 ],
 "metadata": {
  "kernelspec": {
   "display_name": "Python 3",
   "language": "python",
   "name": "python3"
  },
  "language_info": {
   "codemirror_mode": {
    "name": "ipython",
    "version": 3
   },
   "file_extension": ".py",
   "mimetype": "text/x-python",
   "name": "python",
   "nbconvert_exporter": "python",
   "pygments_lexer": "ipython3",
   "version": "3.8.2"
  }
 },
 "nbformat": 4,
 "nbformat_minor": 4
}
