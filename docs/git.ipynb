{
 "cells": [
  {
   "cell_type": "markdown",
   "metadata": {},
   "source": [
    "# Git / Github\n",
    "\n",
    "# REFERENCES\n",
    "\n",
    "### [git cheat sheet](git-cheat-sheet.pdf)\n",
    "\n",
    "https://kbroman.org/github_tutorial/pages/init.html\n",
    "\n",
    "https://chris.beams.io/posts/git-commit/"
   ]
  },
  {
   "cell_type": "markdown",
   "metadata": {},
   "source": [
    "# SETUP & INIT\n",
    "Configuring user information, initializing and cloning repositories\n",
    "\n",
    "* configure   \n",
    "`git config --global user.name “[firstname lastname]”`   \n",
    "`git config --global user.email “[valid-email]”`   \n",
    "`git config --global color.ui auto`   \n",
    "\n",
    "\n",
    "* initialize an existing directory as a Git repository   \n",
    "`git init`\n",
    "\n",
    "\n",
    "* retrieve an entire repository from a hosted location via URL   \n",
    "`git clone http://ghe-rss.roche.com:sungj4-research`   \n",
    "`git clone git@ghe-rss.roche.com:sungj4-research`"
   ]
  },
  {
   "cell_type": "markdown",
   "metadata": {},
   "source": [
    "# STAGE & SNAPSHOT\n",
    "Working with snapshots and the Git staging area\n",
    "\n",
    "* show modified files in working directory, staged for your next commit   \n",
    "`git status`\n",
    "\n",
    "\n",
    "* add a file as it looks now to your next commit (stage)   \n",
    "`git add [file]`\n",
    "\n",
    "\n",
    "* unstage a file while retaining the changes in working directory   \n",
    "`git reset [file]`\n",
    "\n",
    "\n",
    "* diff of what is changed but not staged   \n",
    "`git diff`\n",
    "\n",
    "\n",
    "* diff of what is staged but not yet commited   \n",
    "`git diff --staged`\n",
    "\n",
    "\n",
    "* commit your staged content as a new commit snapshot   \n",
    "`git commit -m “[descriptive message]”`\n",
    "\n",
    "\n",
    "* add and commit in one command   \n",
    "`git config --global alias.ac '!git add -A && git commit -m'`   \n",
    "`git ac 'message'`   \n"
   ]
  },
  {
   "cell_type": "markdown",
   "metadata": {},
   "source": [
    "# BRANCH & MERGE\n",
    "Isolating work in branches, changing context, and integrating changes\n",
    "\n",
    "* list your branches. a * will appear next to the currently active branch  \n",
    "`git branch`\n",
    "\n",
    "\n",
    "* list your branches in remote   \n",
    "`git branch -r`\n",
    "\n",
    "\n",
    "* switch to another branch and check it out into your working directory  \n",
    "`git checkout [branch-name]`\n",
    "\n",
    "\n",
    "* create a new branch.  \n",
    "`git branch [branch-name]`\n",
    "\n",
    "\n",
    "* create a new branch & checkout.  \n",
    "`git checkout -b [branch-name]`\n",
    "\n",
    "\n",
    "* delete a branch that was merged into the current branch   \n",
    "`git branch -d [branch-name]`\n",
    "\n",
    "\n",
    "* delete not yet merged branch   \n",
    "`git branch -D [branch-name]`\n",
    "\n",
    "\n",
    "* merge the specified branch’s history into the current one   \n",
    "`git merge [branch-name]`\n",
    "\n",
    "\n",
    "* delete remote branch   \n",
    "`git push -d origin [branch-name]`\n",
    "\n",
    "\n",
    "* show branch that are merged or not merged to the current branch  \n",
    "`git brnach --merged` (show merged)     \n",
    "`git branch --no-merged` (show branches not merged)   \n",
    "`git branch -r --merged` (show merged in remote)"
   ]
  },
  {
   "cell_type": "markdown",
   "metadata": {},
   "source": [
    "# SHARE & UPDATE\n",
    "Retrieving updates from another repository and updating local repos\n",
    "\n",
    "* add a git URL as an alias  \n",
    "`git remote add [alias] [url]`\n",
    "\n",
    "\n",
    "* fetch down all the branches from that Git remote  \n",
    "`git fetch [alias]`\n",
    "\n",
    "\n",
    "* merge a remote branch into your current branch to bring it up to date  \n",
    "`git merge [alias]/[branch]`\n",
    "\n",
    "\n",
    "* Transmit local branch commits to the remote repository branch  \n",
    "`git push [alias] [branch]`\n",
    "\n",
    "\n",
    "* Force push to a remote (when local version is better than the remote)  \n",
    "`git push -f` or `git push --force`\n",
    "\n",
    "\n",
    "* fetch and merge any commits from the tracking remote branch  \n",
    "`git pull`\n",
    "\n",
    "\n",
    "* push changes onto a new branch on GitHub    \n",
    "`git push origin [branch-name]`\n",
    "\n",
    "\n",
    "* set upstream branch at remote   \n",
    "`git push -u (or --set-upstream) origin [branch-name]`"
   ]
  },
  {
   "cell_type": "markdown",
   "metadata": {},
   "source": [
    "# INSPECT & COMPARE\n",
    "Examining logs, diffs and object information\n",
    "\n",
    "* show all commits in the current branch’s history   \n",
    "`git log`\n",
    "\n",
    "\n",
    "* show the commits on branchA that are not on branchB   \n",
    "`git log branchB..branchA`\n",
    "\n",
    "\n",
    "* show the commits that changed file, even across renames   \n",
    "`git log --follow [file]`\n",
    "\n",
    "\n",
    "* show the diff of what is in branchA that is not in branchB   \n",
    "`git diff branchB...branchA`\n",
    "\n",
    "\n",
    "* show any object in Git in human-readable format   \n",
    "`git show [SHA]`\n",
    "\n",
    "\n"
   ]
  },
  {
   "cell_type": "markdown",
   "metadata": {},
   "source": [
    "# TRACKING PATH CHANGES\n",
    "Versioning file removes and path changes\n",
    "\n",
    "* delete the file from project and stage the removal for commit  \n",
    "`git rm [file]`\n",
    "\n",
    "\n",
    "* change an existing file path and stage the move  \n",
    "`git mv [existing-path] [new-path]`\n",
    "\n",
    "\n",
    "* show all commit logs with indication of any paths that moved  \n",
    "`git log --stat -M`\n",
    "\n",
    "\n",
    "\n"
   ]
  },
  {
   "cell_type": "markdown",
   "metadata": {},
   "source": [
    "# IGNORING PATTERNS\n",
    "Preventing unintentional staging or commiting of files\n",
    "\n",
    "* Save a file with desired paterns as `.gitignore` with either direct string\n",
    "matches or wildcard globs.\n",
    "\n",
    "\n",
    "* apply .gitignore after update   \n",
    "`$ git rm -rf --cached .`   \n",
    "`$ git add .`   \n"
   ]
  },
  {
   "cell_type": "markdown",
   "metadata": {},
   "source": [
    "# REWRITE HISTORY\n",
    "Rewriting branches, updating commits and clearing history\n",
    "\n",
    "* gpristine   \n",
    "`git reset --hard && git clean -dfx`\n",
    "\n",
    "\n",
    "* removing untracked files   \n",
    "`git clean -d -n : dry run`   \n",
    "`git clean -d -f : delete untracked files and directories`   \n"
   ]
  },
  {
   "cell_type": "markdown",
   "metadata": {},
   "source": [
    "# TEMPORARY COMMITS\n",
    "Temporarily store modified, tracked files in order to change branches\n",
    "\n",
    "* Save modified and staged changes  \n",
    "`git stash`\n",
    "\n",
    "\n",
    "* list stack-order of stashed file changes  \n",
    "`git stash list`\n",
    "\n",
    "\n",
    "* write working from top of stash stack  \n",
    "`git stash pop`\n",
    "\n",
    "\n",
    "* discard the changes from top of stash stack  \n",
    "`git stash drop`\n",
    "\n",
    "\n"
   ]
  },
  {
   "cell_type": "code",
   "execution_count": null,
   "metadata": {},
   "outputs": [],
   "source": []
  },
  {
   "cell_type": "code",
   "execution_count": null,
   "metadata": {},
   "outputs": [],
   "source": []
  },
  {
   "cell_type": "code",
   "execution_count": null,
   "metadata": {},
   "outputs": [],
   "source": []
  },
  {
   "cell_type": "code",
   "execution_count": null,
   "metadata": {},
   "outputs": [],
   "source": []
  },
  {
   "cell_type": "code",
   "execution_count": null,
   "metadata": {},
   "outputs": [],
   "source": []
  },
  {
   "cell_type": "code",
   "execution_count": null,
   "metadata": {},
   "outputs": [],
   "source": []
  },
  {
   "cell_type": "code",
   "execution_count": null,
   "metadata": {},
   "outputs": [],
   "source": []
  },
  {
   "cell_type": "code",
   "execution_count": null,
   "metadata": {},
   "outputs": [],
   "source": []
  },
  {
   "cell_type": "code",
   "execution_count": null,
   "metadata": {},
   "outputs": [],
   "source": []
  },
  {
   "cell_type": "code",
   "execution_count": null,
   "metadata": {},
   "outputs": [],
   "source": []
  },
  {
   "cell_type": "code",
   "execution_count": null,
   "metadata": {},
   "outputs": [],
   "source": []
  },
  {
   "cell_type": "code",
   "execution_count": null,
   "metadata": {},
   "outputs": [],
   "source": []
  },
  {
   "cell_type": "code",
   "execution_count": null,
   "metadata": {},
   "outputs": [],
   "source": []
  }
 ],
 "metadata": {
  "kernelspec": {
   "display_name": "Python 3",
   "language": "python",
   "name": "python3"
  },
  "language_info": {
   "codemirror_mode": {
    "name": "ipython",
    "version": 3
   },
   "file_extension": ".py",
   "mimetype": "text/x-python",
   "name": "python",
   "nbconvert_exporter": "python",
   "pygments_lexer": "ipython3",
   "version": "3.8.2"
  }
 },
 "nbformat": 4,
 "nbformat_minor": 4
}
